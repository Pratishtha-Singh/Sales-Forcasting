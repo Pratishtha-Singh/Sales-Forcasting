{
 "cells": [
  {
   "cell_type": "markdown",
   "metadata": {},
   "source": [
    "# Project Overview\n",
    "\n",
    "Accurately forecasting sales is a critical challenge faced by retailers worldwide, as it directly impacts inventory management, resource allocation, and customer satisfaction.\n",
    "\n",
    "This project focuses on forecasting sales for a drug store chain in Germany, comprising 1,115 stores, by leveraging sales data, store-specific information, and contextual factors such as promotions and holidays.\n",
    "The goal of this project is to predict six weeks of daily sales through detailed data preprocessing, exploratory analysis, and predictive modelling. \n",
    " \n",
    "The findings aim to assist retailers, in this case the Rossmann chain, in optimizing operations, improving strategic planning, and adapting to market dynamics, ultimately driving growth and enhancing customer satisfaction.\n",
    "\n",
    "This notebook demonstrates a complete workflow for forecasting daily sales for a German drug store chain. \n",
    "It includes data loading, preprocessing, feature engineering, exploratory data analysis, model training with a Random Forest regressor, and evaluation of results with insights on feature importance.\n",
    "\n",
    "This notebook is completely candid in a way that shows my approach of work and thinking process."
   ]
  },
  {
   "cell_type": "code",
   "execution_count": 2,
   "metadata": {},
   "outputs": [],
   "source": [
    "#importing necessary libraries\n",
    "import pandas as pd \n",
    "import numpy as np \n",
    "import matplotlib.pyplot as plt\n",
    "import seaborn as sns\n",
    "from datetime import datetime\n",
    "from sklearn.ensemble import RandomForestRegressor\n",
    "from sklearn.model_selection import train_test_split\n",
    "from sklearn.metrics import mean_squared_error, r2_score"
   ]
  },
  {
   "cell_type": "markdown",
   "metadata": {},
   "source": [
    "# Datasets\n",
    "\n",
    "This project utilizes three datasets that form the foundation of the sales forecasting model. Each dataset plays a unique role in providing insights into sales patterns and influencing actors"
   ]
  },
  {
   "cell_type": "code",
   "execution_count": 3,
   "metadata": {},
   "outputs": [
    {
     "name": "stderr",
     "output_type": "stream",
     "text": [
      "<ipython-input-3-ab0afdc82fa1>:2: DtypeWarning: Columns (7) have mixed types. Specify dtype option on import or set low_memory=False.\n",
      "  train_df = pd.read_csv('train.csv')\n"
     ]
    }
   ],
   "source": [
    "store_df = pd.read_csv('store.csv')\n",
    "train_df = pd.read_csv('train.csv')\n",
    "test_df = pd.read_csv('test.csv') "
   ]
  },
  {
   "cell_type": "markdown",
   "metadata": {},
   "source": [
    "# Store Dataset\n",
    "\n",
    " This dataset provides detailed information about individual stores, such as store type, product assortment, competition distance etc."
   ]
  },
  {
   "cell_type": "code",
   "execution_count": 4,
   "metadata": {},
   "outputs": [
    {
     "data": {
      "text/html": [
       "<div>\n",
       "<style scoped>\n",
       "    .dataframe tbody tr th:only-of-type {\n",
       "        vertical-align: middle;\n",
       "    }\n",
       "\n",
       "    .dataframe tbody tr th {\n",
       "        vertical-align: top;\n",
       "    }\n",
       "\n",
       "    .dataframe thead th {\n",
       "        text-align: right;\n",
       "    }\n",
       "</style>\n",
       "<table border=\"1\" class=\"dataframe\">\n",
       "  <thead>\n",
       "    <tr style=\"text-align: right;\">\n",
       "      <th></th>\n",
       "      <th>Store</th>\n",
       "      <th>StoreType</th>\n",
       "      <th>Assortment</th>\n",
       "      <th>CompetitionDistance</th>\n",
       "      <th>CompetitionOpenSinceMonth</th>\n",
       "      <th>CompetitionOpenSinceYear</th>\n",
       "      <th>Promo2</th>\n",
       "      <th>Promo2SinceWeek</th>\n",
       "      <th>Promo2SinceYear</th>\n",
       "      <th>PromoInterval</th>\n",
       "    </tr>\n",
       "  </thead>\n",
       "  <tbody>\n",
       "    <tr>\n",
       "      <th>0</th>\n",
       "      <td>1</td>\n",
       "      <td>c</td>\n",
       "      <td>a</td>\n",
       "      <td>1270.0</td>\n",
       "      <td>9.0</td>\n",
       "      <td>2008.0</td>\n",
       "      <td>0</td>\n",
       "      <td>NaN</td>\n",
       "      <td>NaN</td>\n",
       "      <td>NaN</td>\n",
       "    </tr>\n",
       "    <tr>\n",
       "      <th>1</th>\n",
       "      <td>2</td>\n",
       "      <td>a</td>\n",
       "      <td>a</td>\n",
       "      <td>570.0</td>\n",
       "      <td>11.0</td>\n",
       "      <td>2007.0</td>\n",
       "      <td>1</td>\n",
       "      <td>13.0</td>\n",
       "      <td>2010.0</td>\n",
       "      <td>Jan,Apr,Jul,Oct</td>\n",
       "    </tr>\n",
       "    <tr>\n",
       "      <th>2</th>\n",
       "      <td>3</td>\n",
       "      <td>a</td>\n",
       "      <td>a</td>\n",
       "      <td>14130.0</td>\n",
       "      <td>12.0</td>\n",
       "      <td>2006.0</td>\n",
       "      <td>1</td>\n",
       "      <td>14.0</td>\n",
       "      <td>2011.0</td>\n",
       "      <td>Jan,Apr,Jul,Oct</td>\n",
       "    </tr>\n",
       "    <tr>\n",
       "      <th>3</th>\n",
       "      <td>4</td>\n",
       "      <td>c</td>\n",
       "      <td>c</td>\n",
       "      <td>620.0</td>\n",
       "      <td>9.0</td>\n",
       "      <td>2009.0</td>\n",
       "      <td>0</td>\n",
       "      <td>NaN</td>\n",
       "      <td>NaN</td>\n",
       "      <td>NaN</td>\n",
       "    </tr>\n",
       "    <tr>\n",
       "      <th>4</th>\n",
       "      <td>5</td>\n",
       "      <td>a</td>\n",
       "      <td>a</td>\n",
       "      <td>29910.0</td>\n",
       "      <td>4.0</td>\n",
       "      <td>2015.0</td>\n",
       "      <td>0</td>\n",
       "      <td>NaN</td>\n",
       "      <td>NaN</td>\n",
       "      <td>NaN</td>\n",
       "    </tr>\n",
       "  </tbody>\n",
       "</table>\n",
       "</div>"
      ],
      "text/plain": [
       "   Store StoreType Assortment  CompetitionDistance  CompetitionOpenSinceMonth  \\\n",
       "0      1         c          a               1270.0                        9.0   \n",
       "1      2         a          a                570.0                       11.0   \n",
       "2      3         a          a              14130.0                       12.0   \n",
       "3      4         c          c                620.0                        9.0   \n",
       "4      5         a          a              29910.0                        4.0   \n",
       "\n",
       "   CompetitionOpenSinceYear  Promo2  Promo2SinceWeek  Promo2SinceYear  \\\n",
       "0                    2008.0       0              NaN              NaN   \n",
       "1                    2007.0       1             13.0           2010.0   \n",
       "2                    2006.0       1             14.0           2011.0   \n",
       "3                    2009.0       0              NaN              NaN   \n",
       "4                    2015.0       0              NaN              NaN   \n",
       "\n",
       "     PromoInterval  \n",
       "0              NaN  \n",
       "1  Jan,Apr,Jul,Oct  \n",
       "2  Jan,Apr,Jul,Oct  \n",
       "3              NaN  \n",
       "4              NaN  "
      ]
     },
     "execution_count": 4,
     "metadata": {},
     "output_type": "execute_result"
    }
   ],
   "source": [
    "store_df.head()"
   ]
  },
  {
   "cell_type": "code",
   "execution_count": 5,
   "metadata": {},
   "outputs": [
    {
     "name": "stdout",
     "output_type": "stream",
     "text": [
      "<class 'pandas.core.frame.DataFrame'>\n",
      "RangeIndex: 1115 entries, 0 to 1114\n",
      "Data columns (total 10 columns):\n",
      " #   Column                     Non-Null Count  Dtype  \n",
      "---  ------                     --------------  -----  \n",
      " 0   Store                      1115 non-null   int64  \n",
      " 1   StoreType                  1115 non-null   object \n",
      " 2   Assortment                 1115 non-null   object \n",
      " 3   CompetitionDistance        1112 non-null   float64\n",
      " 4   CompetitionOpenSinceMonth  761 non-null    float64\n",
      " 5   CompetitionOpenSinceYear   761 non-null    float64\n",
      " 6   Promo2                     1115 non-null   int64  \n",
      " 7   Promo2SinceWeek            571 non-null    float64\n",
      " 8   Promo2SinceYear            571 non-null    float64\n",
      " 9   PromoInterval              571 non-null    object \n",
      "dtypes: float64(5), int64(2), object(3)\n",
      "memory usage: 87.2+ KB\n"
     ]
    }
   ],
   "source": [
    "store_df.info()"
   ]
  },
  {
   "cell_type": "code",
   "execution_count": 6,
   "metadata": {},
   "outputs": [
    {
     "data": {
      "text/plain": [
       "Store                         0.000000\n",
       "StoreType                     0.000000\n",
       "Assortment                    0.000000\n",
       "CompetitionDistance           0.269058\n",
       "CompetitionOpenSinceMonth    31.748879\n",
       "CompetitionOpenSinceYear     31.748879\n",
       "Promo2                        0.000000\n",
       "Promo2SinceWeek              48.789238\n",
       "Promo2SinceYear              48.789238\n",
       "PromoInterval                48.789238\n",
       "dtype: float64"
      ]
     },
     "execution_count": 6,
     "metadata": {},
     "output_type": "execute_result"
    }
   ],
   "source": [
    "#percentages of missing values\n",
    "store_df.isnull().mean() * 100"
   ]
  },
  {
   "cell_type": "code",
   "execution_count": 7,
   "metadata": {},
   "outputs": [
    {
     "data": {
      "text/plain": [
       "Store                          0\n",
       "StoreType                      0\n",
       "Assortment                     0\n",
       "CompetitionDistance            3\n",
       "CompetitionOpenSinceMonth    354\n",
       "CompetitionOpenSinceYear     354\n",
       "Promo2                         0\n",
       "Promo2SinceWeek              544\n",
       "Promo2SinceYear              544\n",
       "PromoInterval                544\n",
       "dtype: int64"
      ]
     },
     "execution_count": 7,
     "metadata": {},
     "output_type": "execute_result"
    }
   ],
   "source": [
    "#checking the number of missing values in each column\n",
    "store_df.isnull().sum()"
   ]
  },
  {
   "cell_type": "code",
   "execution_count": 8,
   "metadata": {},
   "outputs": [
    {
     "data": {
      "text/plain": [
       "Store                        1115\n",
       "StoreType                       4\n",
       "Assortment                      3\n",
       "CompetitionDistance           654\n",
       "CompetitionOpenSinceMonth      12\n",
       "CompetitionOpenSinceYear       23\n",
       "Promo2                          2\n",
       "Promo2SinceWeek                24\n",
       "Promo2SinceYear                 7\n",
       "PromoInterval                   3\n",
       "dtype: int64"
      ]
     },
     "execution_count": 8,
     "metadata": {},
     "output_type": "execute_result"
    }
   ],
   "source": [
    "#checking the number of unique values in each column\n",
    "store_df.nunique()"
   ]
  },
  {
   "cell_type": "markdown",
   "metadata": {},
   "source": [
    "# Train Dataset\n",
    "\n",
    " The training dataset contains historical sales data for each store. It includes features such as the number of customers, promotions, holidays, and dates, which help capture temporal patterns and customer behaviour over time."
   ]
  },
  {
   "cell_type": "code",
   "execution_count": 9,
   "metadata": {},
   "outputs": [
    {
     "data": {
      "text/html": [
       "<div>\n",
       "<style scoped>\n",
       "    .dataframe tbody tr th:only-of-type {\n",
       "        vertical-align: middle;\n",
       "    }\n",
       "\n",
       "    .dataframe tbody tr th {\n",
       "        vertical-align: top;\n",
       "    }\n",
       "\n",
       "    .dataframe thead th {\n",
       "        text-align: right;\n",
       "    }\n",
       "</style>\n",
       "<table border=\"1\" class=\"dataframe\">\n",
       "  <thead>\n",
       "    <tr style=\"text-align: right;\">\n",
       "      <th></th>\n",
       "      <th>Store</th>\n",
       "      <th>DayOfWeek</th>\n",
       "      <th>Date</th>\n",
       "      <th>Sales</th>\n",
       "      <th>Customers</th>\n",
       "      <th>Open</th>\n",
       "      <th>Promo</th>\n",
       "      <th>StateHoliday</th>\n",
       "      <th>SchoolHoliday</th>\n",
       "    </tr>\n",
       "  </thead>\n",
       "  <tbody>\n",
       "    <tr>\n",
       "      <th>0</th>\n",
       "      <td>1</td>\n",
       "      <td>5</td>\n",
       "      <td>31/07/2015</td>\n",
       "      <td>5263</td>\n",
       "      <td>555</td>\n",
       "      <td>1</td>\n",
       "      <td>1</td>\n",
       "      <td>0</td>\n",
       "      <td>1</td>\n",
       "    </tr>\n",
       "    <tr>\n",
       "      <th>1</th>\n",
       "      <td>2</td>\n",
       "      <td>5</td>\n",
       "      <td>31/07/2015</td>\n",
       "      <td>6064</td>\n",
       "      <td>625</td>\n",
       "      <td>1</td>\n",
       "      <td>1</td>\n",
       "      <td>0</td>\n",
       "      <td>1</td>\n",
       "    </tr>\n",
       "    <tr>\n",
       "      <th>2</th>\n",
       "      <td>3</td>\n",
       "      <td>5</td>\n",
       "      <td>31/07/2015</td>\n",
       "      <td>8314</td>\n",
       "      <td>821</td>\n",
       "      <td>1</td>\n",
       "      <td>1</td>\n",
       "      <td>0</td>\n",
       "      <td>1</td>\n",
       "    </tr>\n",
       "    <tr>\n",
       "      <th>3</th>\n",
       "      <td>4</td>\n",
       "      <td>5</td>\n",
       "      <td>31/07/2015</td>\n",
       "      <td>13995</td>\n",
       "      <td>1498</td>\n",
       "      <td>1</td>\n",
       "      <td>1</td>\n",
       "      <td>0</td>\n",
       "      <td>1</td>\n",
       "    </tr>\n",
       "    <tr>\n",
       "      <th>4</th>\n",
       "      <td>5</td>\n",
       "      <td>5</td>\n",
       "      <td>31/07/2015</td>\n",
       "      <td>4822</td>\n",
       "      <td>559</td>\n",
       "      <td>1</td>\n",
       "      <td>1</td>\n",
       "      <td>0</td>\n",
       "      <td>1</td>\n",
       "    </tr>\n",
       "  </tbody>\n",
       "</table>\n",
       "</div>"
      ],
      "text/plain": [
       "   Store  DayOfWeek        Date  Sales  Customers  Open  Promo StateHoliday  \\\n",
       "0      1          5  31/07/2015   5263        555     1      1            0   \n",
       "1      2          5  31/07/2015   6064        625     1      1            0   \n",
       "2      3          5  31/07/2015   8314        821     1      1            0   \n",
       "3      4          5  31/07/2015  13995       1498     1      1            0   \n",
       "4      5          5  31/07/2015   4822        559     1      1            0   \n",
       "\n",
       "   SchoolHoliday  \n",
       "0              1  \n",
       "1              1  \n",
       "2              1  \n",
       "3              1  \n",
       "4              1  "
      ]
     },
     "execution_count": 9,
     "metadata": {},
     "output_type": "execute_result"
    }
   ],
   "source": [
    "train_df.head()"
   ]
  },
  {
   "cell_type": "code",
   "execution_count": 10,
   "metadata": {},
   "outputs": [
    {
     "name": "stdout",
     "output_type": "stream",
     "text": [
      "<class 'pandas.core.frame.DataFrame'>\n",
      "RangeIndex: 1017209 entries, 0 to 1017208\n",
      "Data columns (total 9 columns):\n",
      " #   Column         Non-Null Count    Dtype \n",
      "---  ------         --------------    ----- \n",
      " 0   Store          1017209 non-null  int64 \n",
      " 1   DayOfWeek      1017209 non-null  int64 \n",
      " 2   Date           1017209 non-null  object\n",
      " 3   Sales          1017209 non-null  int64 \n",
      " 4   Customers      1017209 non-null  int64 \n",
      " 5   Open           1017209 non-null  int64 \n",
      " 6   Promo          1017209 non-null  int64 \n",
      " 7   StateHoliday   1017209 non-null  object\n",
      " 8   SchoolHoliday  1017209 non-null  int64 \n",
      "dtypes: int64(7), object(2)\n",
      "memory usage: 69.8+ MB\n"
     ]
    }
   ],
   "source": [
    "train_df.info()"
   ]
  },
  {
   "cell_type": "code",
   "execution_count": 11,
   "metadata": {},
   "outputs": [
    {
     "data": {
      "text/plain": [
       "Store            0\n",
       "DayOfWeek        0\n",
       "Date             0\n",
       "Sales            0\n",
       "Customers        0\n",
       "Open             0\n",
       "Promo            0\n",
       "StateHoliday     0\n",
       "SchoolHoliday    0\n",
       "dtype: int64"
      ]
     },
     "execution_count": 11,
     "metadata": {},
     "output_type": "execute_result"
    }
   ],
   "source": [
    "#checking the number of missing values in each column\n",
    "train_df.isnull().sum()"
   ]
  },
  {
   "cell_type": "code",
   "execution_count": 12,
   "metadata": {},
   "outputs": [
    {
     "data": {
      "text/plain": [
       "Store             1115\n",
       "DayOfWeek            7\n",
       "Date               942\n",
       "Sales            21734\n",
       "Customers         4086\n",
       "Open                 2\n",
       "Promo                2\n",
       "StateHoliday         5\n",
       "SchoolHoliday        2\n",
       "dtype: int64"
      ]
     },
     "execution_count": 12,
     "metadata": {},
     "output_type": "execute_result"
    }
   ],
   "source": [
    "#checking the number of unique values in each column\n",
    "train_df.nunique()"
   ]
  },
  {
   "cell_type": "markdown",
   "metadata": {},
   "source": [
    "# Test Dataset\n",
    "\n",
    "The test dataset provides similar information as the train dataset, excluding the sales and customers column."
   ]
  },
  {
   "cell_type": "code",
   "execution_count": 13,
   "metadata": {},
   "outputs": [
    {
     "data": {
      "text/html": [
       "<div>\n",
       "<style scoped>\n",
       "    .dataframe tbody tr th:only-of-type {\n",
       "        vertical-align: middle;\n",
       "    }\n",
       "\n",
       "    .dataframe tbody tr th {\n",
       "        vertical-align: top;\n",
       "    }\n",
       "\n",
       "    .dataframe thead th {\n",
       "        text-align: right;\n",
       "    }\n",
       "</style>\n",
       "<table border=\"1\" class=\"dataframe\">\n",
       "  <thead>\n",
       "    <tr style=\"text-align: right;\">\n",
       "      <th></th>\n",
       "      <th>Store</th>\n",
       "      <th>DayOfWeek</th>\n",
       "      <th>Date</th>\n",
       "      <th>Sales</th>\n",
       "      <th>Customers</th>\n",
       "      <th>Open</th>\n",
       "      <th>Promo</th>\n",
       "      <th>StateHoliday</th>\n",
       "      <th>SchoolHoliday</th>\n",
       "    </tr>\n",
       "  </thead>\n",
       "  <tbody>\n",
       "    <tr>\n",
       "      <th>0</th>\n",
       "      <td>1</td>\n",
       "      <td>4</td>\n",
       "      <td>17/09/2015</td>\n",
       "      <td>NaN</td>\n",
       "      <td>NaN</td>\n",
       "      <td>1.0</td>\n",
       "      <td>1</td>\n",
       "      <td>0</td>\n",
       "      <td>0</td>\n",
       "    </tr>\n",
       "    <tr>\n",
       "      <th>1</th>\n",
       "      <td>3</td>\n",
       "      <td>4</td>\n",
       "      <td>17/09/2015</td>\n",
       "      <td>NaN</td>\n",
       "      <td>NaN</td>\n",
       "      <td>1.0</td>\n",
       "      <td>1</td>\n",
       "      <td>0</td>\n",
       "      <td>0</td>\n",
       "    </tr>\n",
       "    <tr>\n",
       "      <th>2</th>\n",
       "      <td>7</td>\n",
       "      <td>4</td>\n",
       "      <td>17/09/2015</td>\n",
       "      <td>NaN</td>\n",
       "      <td>NaN</td>\n",
       "      <td>1.0</td>\n",
       "      <td>1</td>\n",
       "      <td>0</td>\n",
       "      <td>0</td>\n",
       "    </tr>\n",
       "    <tr>\n",
       "      <th>3</th>\n",
       "      <td>8</td>\n",
       "      <td>4</td>\n",
       "      <td>17/09/2015</td>\n",
       "      <td>NaN</td>\n",
       "      <td>NaN</td>\n",
       "      <td>1.0</td>\n",
       "      <td>1</td>\n",
       "      <td>0</td>\n",
       "      <td>0</td>\n",
       "    </tr>\n",
       "    <tr>\n",
       "      <th>4</th>\n",
       "      <td>9</td>\n",
       "      <td>4</td>\n",
       "      <td>17/09/2015</td>\n",
       "      <td>NaN</td>\n",
       "      <td>NaN</td>\n",
       "      <td>1.0</td>\n",
       "      <td>1</td>\n",
       "      <td>0</td>\n",
       "      <td>0</td>\n",
       "    </tr>\n",
       "  </tbody>\n",
       "</table>\n",
       "</div>"
      ],
      "text/plain": [
       "   Store  DayOfWeek        Date  Sales  Customers  Open  Promo StateHoliday  \\\n",
       "0      1          4  17/09/2015    NaN        NaN   1.0      1            0   \n",
       "1      3          4  17/09/2015    NaN        NaN   1.0      1            0   \n",
       "2      7          4  17/09/2015    NaN        NaN   1.0      1            0   \n",
       "3      8          4  17/09/2015    NaN        NaN   1.0      1            0   \n",
       "4      9          4  17/09/2015    NaN        NaN   1.0      1            0   \n",
       "\n",
       "   SchoolHoliday  \n",
       "0              0  \n",
       "1              0  \n",
       "2              0  \n",
       "3              0  \n",
       "4              0  "
      ]
     },
     "execution_count": 13,
     "metadata": {},
     "output_type": "execute_result"
    }
   ],
   "source": [
    "test_df.head()"
   ]
  },
  {
   "cell_type": "code",
   "execution_count": 14,
   "metadata": {},
   "outputs": [
    {
     "data": {
      "text/plain": [
       "Store                0\n",
       "DayOfWeek            0\n",
       "Date                 0\n",
       "Sales            41088\n",
       "Customers        41088\n",
       "Open                11\n",
       "Promo                0\n",
       "StateHoliday         0\n",
       "SchoolHoliday        0\n",
       "dtype: int64"
      ]
     },
     "execution_count": 14,
     "metadata": {},
     "output_type": "execute_result"
    }
   ],
   "source": [
    "test_df.isnull().sum()"
   ]
  },
  {
   "cell_type": "code",
   "execution_count": 15,
   "metadata": {},
   "outputs": [
    {
     "name": "stdout",
     "output_type": "stream",
     "text": [
      "<class 'pandas.core.frame.DataFrame'>\n",
      "RangeIndex: 41088 entries, 0 to 41087\n",
      "Data columns (total 9 columns):\n",
      " #   Column         Non-Null Count  Dtype  \n",
      "---  ------         --------------  -----  \n",
      " 0   Store          41088 non-null  int64  \n",
      " 1   DayOfWeek      41088 non-null  int64  \n",
      " 2   Date           41088 non-null  object \n",
      " 3   Sales          0 non-null      float64\n",
      " 4   Customers      0 non-null      float64\n",
      " 5   Open           41077 non-null  float64\n",
      " 6   Promo          41088 non-null  int64  \n",
      " 7   StateHoliday   41088 non-null  object \n",
      " 8   SchoolHoliday  41088 non-null  int64  \n",
      "dtypes: float64(3), int64(4), object(2)\n",
      "memory usage: 2.8+ MB\n"
     ]
    }
   ],
   "source": [
    "test_df.info()"
   ]
  },
  {
   "cell_type": "code",
   "execution_count": 16,
   "metadata": {},
   "outputs": [
    {
     "data": {
      "text/plain": [
       "Store            856\n",
       "DayOfWeek          7\n",
       "Date              48\n",
       "Sales              0\n",
       "Customers          0\n",
       "Open               2\n",
       "Promo              2\n",
       "StateHoliday       2\n",
       "SchoolHoliday      2\n",
       "dtype: int64"
      ]
     },
     "execution_count": 16,
     "metadata": {},
     "output_type": "execute_result"
    }
   ],
   "source": [
    "test_df.nunique()"
   ]
  },
  {
   "cell_type": "markdown",
   "metadata": {},
   "source": [
    "# Raw Data to Ready Data"
   ]
  },
  {
   "cell_type": "code",
   "execution_count": 17,
   "metadata": {},
   "outputs": [
    {
     "data": {
      "image/png": "[encoded data removed]",
      "text/plain": [
       "<Figure size 720x360 with 1 Axes>"
      ]
     },
     "metadata": {
      "needs_background": "light"
     },
     "output_type": "display_data"
    }
   ],
   "source": [
    "# Plot distribution of CompetitionDistance (store dataset)\n",
    "plt.figure(figsize=(10, 5))\n",
    "sns.boxplot(store_df['CompetitionDistance'], color ='red')\n",
    "plt.title(\"Competition Distance Boxplot\")\n",
    "plt.show()\n"
   ]
  },
  {
   "cell_type": "code",
   "execution_count": 18,
   "metadata": {},
   "outputs": [
    {
     "name": "stderr",
     "output_type": "stream",
     "text": [
      "<ipython-input-18-f8758ab98e5d>:2: FutureWarning: A value is trying to be set on a copy of a DataFrame or Series through chained assignment using an inplace method.\n",
      "The behavior will change in pandas 3.0. This inplace method will never work because the intermediate object on which we are setting values always behaves as a copy.\n",
      "\n",
      "For example, when doing 'df[col].method(value, inplace=True)', try using 'df.method({col: value}, inplace=True)' or df[col] = df[col].method(value) instead, to perform the operation inplace on the original object.\n",
      "\n",
      "\n",
      "  store_df['CompetitionDistance'].fillna(store_df['CompetitionDistance'].median(), inplace=True)\n"
     ]
    }
   ],
   "source": [
    "# Impute with median \n",
    "store_df['CompetitionDistance'].fillna(store_df['CompetitionDistance'].median(), inplace=True)\n"
   ]
  },
  {
   "cell_type": "code",
   "execution_count": 19,
   "metadata": {},
   "outputs": [
    {
     "data": {
      "text/plain": [
       "Store                          0\n",
       "StoreType                      0\n",
       "Assortment                     0\n",
       "CompetitionDistance            0\n",
       "CompetitionOpenSinceMonth    354\n",
       "CompetitionOpenSinceYear     354\n",
       "Promo2                         0\n",
       "Promo2SinceWeek              544\n",
       "Promo2SinceYear              544\n",
       "PromoInterval                544\n",
       "dtype: int64"
      ]
     },
     "execution_count": 19,
     "metadata": {},
     "output_type": "execute_result"
    }
   ],
   "source": [
    "#checking the number of missing values in each column after imputation\n",
    "store_df.isnull().sum()"
   ]
  },
  {
   "cell_type": "code",
   "execution_count": 20,
   "metadata": {},
   "outputs": [
    {
     "name": "stderr",
     "output_type": "stream",
     "text": [
      "<ipython-input-20-fe5fe1fcb6a0>:3: FutureWarning: \n",
      "\n",
      "Passing `palette` without assigning `hue` is deprecated and will be removed in v0.14.0. Assign the `x` variable to `hue` and set `legend=False` for the same effect.\n",
      "\n",
      "  sns.countplot(x='CompetitionOpenSinceMonth', data=store_df, palette='viridis')\n"
     ]
    },
    {
     "data": {
      "image/png": "[encoded data removed]",
      "text/plain": [
       "<Figure size 864x432 with 1 Axes>"
      ]
     },
     "metadata": {
      "needs_background": "light"
     },
     "output_type": "display_data"
    },
    {
     "name": "stderr",
     "output_type": "stream",
     "text": [
      "<ipython-input-20-fe5fe1fcb6a0>:13: FutureWarning: \n",
      "\n",
      "Passing `palette` without assigning `hue` is deprecated and will be removed in v0.14.0. Assign the `x` variable to `hue` and set `legend=False` for the same effect.\n",
      "\n",
      "  sns.countplot(x='CompetitionOpenSinceYear', data=store_df, palette='viridis')\n"
     ]
    },
    {
     "data": {
      "image/png": "[encoded data removed]",
      "text/plain": [
       "<Figure size 864x432 with 1 Axes>"
      ]
     },
     "metadata": {
      "needs_background": "light"
     },
     "output_type": "display_data"
    }
   ],
   "source": [
    "# Check distribution of CompetitionOpenSinceMonth\n",
    "plt.figure(figsize=(12, 6))\n",
    "sns.countplot(x='CompetitionOpenSinceMonth', data=store_df, palette='viridis')\n",
    "plt.title(\"Distribution of CompetitionOpenSinceMonth\")\n",
    "plt.xlabel(\"Month\")\n",
    "plt.ylabel(\"Count\")\n",
    "plt.xticks(range(1, 13), ['Jan', 'Feb', 'Mar', 'Apr', 'May', 'Jun', \n",
    "                          'Jul', 'Aug', 'Sep', 'Oct', 'Nov', 'Dec'], rotation=45)\n",
    "plt.show()\n",
    "\n",
    "# Check distribution of CompetitionOpenSinceYear\n",
    "plt.figure(figsize=(12, 6))\n",
    "sns.countplot(x='CompetitionOpenSinceYear', data=store_df, palette='viridis')\n",
    "plt.title(\"Distribution of CompetitionOpenSinceYear\")\n",
    "plt.xlabel(\"Year\")\n",
    "plt.ylabel(\"Count\")\n",
    "plt.xticks(rotation=45)\n",
    "plt.show()"
   ]
  },
  {
   "cell_type": "code",
   "execution_count": 21,
   "metadata": {},
   "outputs": [
    {
     "name": "stderr",
     "output_type": "stream",
     "text": [
      "<ipython-input-21-1930ab3dbe8a>:2: FutureWarning: A value is trying to be set on a copy of a DataFrame or Series through chained assignment using an inplace method.\n",
      "The behavior will change in pandas 3.0. This inplace method will never work because the intermediate object on which we are setting values always behaves as a copy.\n",
      "\n",
      "For example, when doing 'df[col].method(value, inplace=True)', try using 'df.method({col: value}, inplace=True)' or df[col] = df[col].method(value) instead, to perform the operation inplace on the original object.\n",
      "\n",
      "\n",
      "  store_df['CompetitionOpenSinceMonth'].fillna(store_df['CompetitionOpenSinceMonth'].mode()[0], inplace=True)\n",
      "<ipython-input-21-1930ab3dbe8a>:3: FutureWarning: A value is trying to be set on a copy of a DataFrame or Series through chained assignment using an inplace method.\n",
      "The behavior will change in pandas 3.0. This inplace method will never work because the intermediate object on which we are setting values always behaves as a copy.\n",
      "\n",
      "For example, when doing 'df[col].method(value, inplace=True)', try using 'df.method({col: value}, inplace=True)' or df[col] = df[col].method(value) instead, to perform the operation inplace on the original object.\n",
      "\n",
      "\n",
      "  store_df['CompetitionOpenSinceYear'].fillna(store_df['CompetitionOpenSinceYear'].mode()[0], inplace=True)\n"
     ]
    }
   ],
   "source": [
    "# Fill with mode\n",
    "store_df['CompetitionOpenSinceMonth'].fillna(store_df['CompetitionOpenSinceMonth'].mode()[0], inplace=True)\n",
    "store_df['CompetitionOpenSinceYear'].fillna(store_df['CompetitionOpenSinceYear'].mode()[0], inplace=True)\n"
   ]
  },
  {
   "cell_type": "code",
   "execution_count": 22,
   "metadata": {},
   "outputs": [
    {
     "name": "stderr",
     "output_type": "stream",
     "text": [
      "<ipython-input-22-3946b287648c>:2: FutureWarning: A value is trying to be set on a copy of a DataFrame or Series through chained assignment using an inplace method.\n",
      "The behavior will change in pandas 3.0. This inplace method will never work because the intermediate object on which we are setting values always behaves as a copy.\n",
      "\n",
      "For example, when doing 'df[col].method(value, inplace=True)', try using 'df.method({col: value}, inplace=True)' or df[col] = df[col].method(value) instead, to perform the operation inplace on the original object.\n",
      "\n",
      "\n",
      "  store_df['Promo2SinceWeek'].fillna(0, inplace=True)\n",
      "<ipython-input-22-3946b287648c>:3: FutureWarning: A value is trying to be set on a copy of a DataFrame or Series through chained assignment using an inplace method.\n",
      "The behavior will change in pandas 3.0. This inplace method will never work because the intermediate object on which we are setting values always behaves as a copy.\n",
      "\n",
      "For example, when doing 'df[col].method(value, inplace=True)', try using 'df.method({col: value}, inplace=True)' or df[col] = df[col].method(value) instead, to perform the operation inplace on the original object.\n",
      "\n",
      "\n",
      "  store_df['Promo2SinceYear'].fillna(0, inplace=True)\n",
      "<ipython-input-22-3946b287648c>:4: FutureWarning: A value is trying to be set on a copy of a DataFrame or Series through chained assignment using an inplace method.\n",
      "The behavior will change in pandas 3.0. This inplace method will never work because the intermediate object on which we are setting values always behaves as a copy.\n",
      "\n",
      "For example, when doing 'df[col].method(value, inplace=True)', try using 'df.method({col: value}, inplace=True)' or df[col] = df[col].method(value) instead, to perform the operation inplace on the original object.\n",
      "\n",
      "\n",
      "  store_df['PromoInterval'].fillna(0, inplace=True)\n"
     ]
    }
   ],
   "source": [
    "# Fill missing Promo2SinceWeek and Promo2SinceYear with 0\n",
    "store_df['Promo2SinceWeek'].fillna(0, inplace=True)\n",
    "store_df['Promo2SinceYear'].fillna(0, inplace=True)\n",
    "store_df['PromoInterval'].fillna(0, inplace=True)\n"
   ]
  },
  {
   "cell_type": "code",
   "execution_count": 23,
   "metadata": {},
   "outputs": [
    {
     "data": {
      "text/plain": [
       "Store                        0\n",
       "StoreType                    0\n",
       "Assortment                   0\n",
       "CompetitionDistance          0\n",
       "CompetitionOpenSinceMonth    0\n",
       "CompetitionOpenSinceYear     0\n",
       "Promo2                       0\n",
       "Promo2SinceWeek              0\n",
       "Promo2SinceYear              0\n",
       "PromoInterval                0\n",
       "dtype: int64"
      ]
     },
     "execution_count": 23,
     "metadata": {},
     "output_type": "execute_result"
    }
   ],
   "source": [
    "#checking the number of missing values in each column after imputations\n",
    "store_df.isnull().sum()"
   ]
  },
  {
   "cell_type": "code",
   "execution_count": 24,
   "metadata": {},
   "outputs": [
    {
     "name": "stdout",
     "output_type": "stream",
     "text": [
      "Unique values in StateHoliday after mapping: [0 1 2 3]\n"
     ]
    }
   ],
   "source": [
    "# Map the values in StateHoliday to integers\n",
    "state_holiday_mapping = {\n",
    "    '0': 0,  # String '0' becomes integer 0\n",
    "    0: 0,    # Integer 0 remains 0\n",
    "    'a': 1,  # Public holiday\n",
    "    'b': 2,  # Easter holiday\n",
    "    'c': 3   # Christmas holiday\n",
    "}\n",
    "\n",
    "# Apply the mapping\n",
    "train_df['StateHoliday'] = train_df['StateHoliday'].map(state_holiday_mapping)\n",
    "\n",
    "# Check the unique values to confirm the transformation\n",
    "print(\"Unique values in StateHoliday after mapping:\", train_df['StateHoliday'].unique())\n"
   ]
  },
  {
   "cell_type": "code",
   "execution_count": 25,
   "metadata": {},
   "outputs": [
    {
     "name": "stdout",
     "output_type": "stream",
     "text": [
      "Number of rows after removing closed stores: 844392\n"
     ]
    }
   ],
   "source": [
    "# Filter out rows where the store is closed (Open = 0)\n",
    "train_df = train_df[train_df['Open'] != 0]\n",
    "\n",
    "# Reset the index after filtering (optional)\n",
    "train_df.reset_index(drop=True, inplace=True)\n",
    "\n",
    "# Check the updated dataset\n",
    "print(f\"Number of rows after removing closed stores: {train_df.shape[0]}\")\n"
   ]
  },
  {
   "cell_type": "code",
   "execution_count": 26,
   "metadata": {},
   "outputs": [
    {
     "name": "stdout",
     "output_type": "stream",
     "text": [
      "Column 'Date' successfully converted to datetime.\n",
      "<class 'pandas.core.frame.DataFrame'>\n",
      "RangeIndex: 844392 entries, 0 to 844391\n",
      "Data columns (total 9 columns):\n",
      " #   Column         Non-Null Count   Dtype         \n",
      "---  ------         --------------   -----         \n",
      " 0   Store          844392 non-null  int64         \n",
      " 1   DayOfWeek      844392 non-null  int64         \n",
      " 2   Date           844392 non-null  datetime64[ns]\n",
      " 3   Sales          844392 non-null  int64         \n",
      " 4   Customers      844392 non-null  int64         \n",
      " 5   Open           844392 non-null  int64         \n",
      " 6   Promo          844392 non-null  int64         \n",
      " 7   StateHoliday   844392 non-null  int64         \n",
      " 8   SchoolHoliday  844392 non-null  int64         \n",
      "dtypes: datetime64[ns](1), int64(8)\n",
      "memory usage: 58.0 MB\n",
      "None\n"
     ]
    },
    {
     "name": "stderr",
     "output_type": "stream",
     "text": [
      "<ipython-input-26-1dd011897ce6>:7: UserWarning: Parsing dates in %d/%m/%Y format when dayfirst=False (the default) was specified. Pass `dayfirst=True` or specify a format to silence this warning.\n",
      "  train_df[col] = pd.to_datetime(train_df[col])\n"
     ]
    }
   ],
   "source": [
    "# Identify date columns in the dataset\n",
    "date_columns = train_df.select_dtypes(include=['object']).columns\n",
    "\n",
    "# Loop through the columns and convert to datetime if possible\n",
    "for col in date_columns:\n",
    "    try:\n",
    "        train_df[col] = pd.to_datetime(train_df[col])\n",
    "        print(f\"Column '{col}' successfully converted to datetime.\")\n",
    "    except Exception as e:\n",
    "        print(f\"Column '{col}' could not be converted: {e}\")\n",
    "\n",
    "# Check the updated dataset\n",
    "print(train_df.info())  # Verify the datatype changes\n"
   ]
  },
  {
   "cell_type": "code",
   "execution_count": 27,
   "metadata": {},
   "outputs": [
    {
     "name": "stderr",
     "output_type": "stream",
     "text": [
      "<ipython-input-27-f1f22b7441f9>:6: FutureWarning: \n",
      "\n",
      "Passing `palette` without assigning `hue` is deprecated and will be removed in v0.14.0. Assign the `x` variable to `hue` and set `legend=False` for the same effect.\n",
      "\n",
      "  sns.barplot(x=avg_sales_by_day.index, y=avg_sales_by_day.values, palette='viridis')\n"
     ]
    },
    {
     "data": {
      "image/png": "[encoded data removed]",
      "text/plain": [
       "<Figure size 720x360 with 1 Axes>"
      ]
     },
     "metadata": {
      "needs_background": "light"
     },
     "output_type": "display_data"
    }
   ],
   "source": [
    "# Calculate average sales by DayOfWeek\n",
    "avg_sales_by_day = train_df.groupby('DayOfWeek')['Sales'].mean()\n",
    "\n",
    "# Plot average sales by DayOfWeek\n",
    "plt.figure(figsize=(10, 5))\n",
    "sns.barplot(x=avg_sales_by_day.index, y=avg_sales_by_day.values, palette='viridis')\n",
    "plt.title(\"Average Sales by Day of the Week\")\n",
    "plt.xlabel(\"Day of the Week (1=Monday, 7=Sunday)\")\n",
    "plt.ylabel(\"Average Sales\")\n",
    "plt.xticks(ticks=range(7), labels=[\"Mon\", \"Tue\", \"Wed\", \"Thu\", \"Fri\", \"Sat\", \"Sun\"])\n",
    "plt.show()\n"
   ]
  },
  {
   "cell_type": "code",
   "execution_count": 28,
   "metadata": {},
   "outputs": [
    {
     "name": "stderr",
     "output_type": "stream",
     "text": [
      "<ipython-input-28-73ea950a7d74>:6: FutureWarning: \n",
      "\n",
      "Passing `palette` without assigning `hue` is deprecated and will be removed in v0.14.0. Assign the `x` variable to `hue` and set `legend=False` for the same effect.\n",
      "\n",
      "  sns.barplot(\n"
     ]
    },
    {
     "data": {
      "image/png": "[encoded data removed]",
      "text/plain": [
       "<Figure size 720x360 with 1 Axes>"
      ]
     },
     "metadata": {
      "needs_background": "light"
     },
     "output_type": "display_data"
    }
   ],
   "source": [
    "# Calculate average sales by DayOfWeek\n",
    "avg_sales_by_day = train_df.groupby('DayOfWeek')['Sales'].mean()\n",
    "\n",
    "# Plot average sales by DayOfWeek with blue-to-red color gradient\n",
    "plt.figure(figsize=(10, 5))\n",
    "sns.barplot(\n",
    "    x=avg_sales_by_day.index, \n",
    "    y=avg_sales_by_day.values, \n",
    "    palette=sns.color_palette(\"RdBu\", len(avg_sales_by_day))  # Blue-to-red color shade\n",
    ")\n",
    "plt.title(\"Average Sales by Day of the Week\", fontsize=16)\n",
    "plt.xlabel(\"Day of the Week (1=Monday, 7=Sunday)\", fontsize=12)\n",
    "plt.ylabel(\"Average Sales\", fontsize=12)\n",
    "plt.xticks(ticks=range(7), labels=[\"Mon\", \"Tue\", \"Wed\", \"Thu\", \"Fri\", \"Sat\", \"Sun\"], fontsize=10)\n",
    "plt.tight_layout()\n",
    "plt.show()\n"
   ]
  },
  {
   "cell_type": "code",
   "execution_count": 29,
   "metadata": {},
   "outputs": [
    {
     "name": "stdout",
     "output_type": "stream",
     "text": [
      "Unique values in StoreType: [3 1 4 2]\n",
      "Unique values in Assortment: [1 3 2]\n"
     ]
    }
   ],
   "source": [
    "# Define mappings for StoreType and Assortment\n",
    "store_type_mapping = {'a': 1, 'b': 2, 'c': 3, 'd': 4}\n",
    "assortment_mapping = {'a': 1, 'b': 2, 'c': 3}\n",
    "\n",
    "# Map the values in the columns to the corresponding integers\n",
    "store_df['StoreType'] = store_df['StoreType'].map(store_type_mapping)\n",
    "store_df['Assortment'] = store_df['Assortment'].map(assortment_mapping)\n",
    "\n",
    "# Check the updated dataset\n",
    "print(\"Unique values in StoreType:\", store_df['StoreType'].unique())\n",
    "print(\"Unique values in Assortment:\", store_df['Assortment'].unique())\n"
   ]
  },
  {
   "cell_type": "code",
   "execution_count": 30,
   "metadata": {},
   "outputs": [
    {
     "data": {
      "text/html": [
       "<div>\n",
       "<style scoped>\n",
       "    .dataframe tbody tr th:only-of-type {\n",
       "        vertical-align: middle;\n",
       "    }\n",
       "\n",
       "    .dataframe tbody tr th {\n",
       "        vertical-align: top;\n",
       "    }\n",
       "\n",
       "    .dataframe thead th {\n",
       "        text-align: right;\n",
       "    }\n",
       "</style>\n",
       "<table border=\"1\" class=\"dataframe\">\n",
       "  <thead>\n",
       "    <tr style=\"text-align: right;\">\n",
       "      <th></th>\n",
       "      <th>Store</th>\n",
       "      <th>StoreType</th>\n",
       "      <th>Assortment</th>\n",
       "      <th>CompetitionDistance</th>\n",
       "      <th>CompetitionOpenSinceMonth</th>\n",
       "      <th>CompetitionOpenSinceYear</th>\n",
       "      <th>Promo2</th>\n",
       "      <th>Promo2SinceWeek</th>\n",
       "      <th>Promo2SinceYear</th>\n",
       "      <th>PromoInterval</th>\n",
       "    </tr>\n",
       "  </thead>\n",
       "  <tbody>\n",
       "    <tr>\n",
       "      <th>0</th>\n",
       "      <td>1</td>\n",
       "      <td>3</td>\n",
       "      <td>1</td>\n",
       "      <td>1270.0</td>\n",
       "      <td>9.0</td>\n",
       "      <td>2008.0</td>\n",
       "      <td>0</td>\n",
       "      <td>0.0</td>\n",
       "      <td>0.0</td>\n",
       "      <td>0</td>\n",
       "    </tr>\n",
       "    <tr>\n",
       "      <th>1</th>\n",
       "      <td>2</td>\n",
       "      <td>1</td>\n",
       "      <td>1</td>\n",
       "      <td>570.0</td>\n",
       "      <td>11.0</td>\n",
       "      <td>2007.0</td>\n",
       "      <td>1</td>\n",
       "      <td>13.0</td>\n",
       "      <td>2010.0</td>\n",
       "      <td>Jan,Apr,Jul,Oct</td>\n",
       "    </tr>\n",
       "    <tr>\n",
       "      <th>2</th>\n",
       "      <td>3</td>\n",
       "      <td>1</td>\n",
       "      <td>1</td>\n",
       "      <td>14130.0</td>\n",
       "      <td>12.0</td>\n",
       "      <td>2006.0</td>\n",
       "      <td>1</td>\n",
       "      <td>14.0</td>\n",
       "      <td>2011.0</td>\n",
       "      <td>Jan,Apr,Jul,Oct</td>\n",
       "    </tr>\n",
       "    <tr>\n",
       "      <th>3</th>\n",
       "      <td>4</td>\n",
       "      <td>3</td>\n",
       "      <td>3</td>\n",
       "      <td>620.0</td>\n",
       "      <td>9.0</td>\n",
       "      <td>2009.0</td>\n",
       "      <td>0</td>\n",
       "      <td>0.0</td>\n",
       "      <td>0.0</td>\n",
       "      <td>0</td>\n",
       "    </tr>\n",
       "    <tr>\n",
       "      <th>4</th>\n",
       "      <td>5</td>\n",
       "      <td>1</td>\n",
       "      <td>1</td>\n",
       "      <td>29910.0</td>\n",
       "      <td>4.0</td>\n",
       "      <td>2015.0</td>\n",
       "      <td>0</td>\n",
       "      <td>0.0</td>\n",
       "      <td>0.0</td>\n",
       "      <td>0</td>\n",
       "    </tr>\n",
       "  </tbody>\n",
       "</table>\n",
       "</div>"
      ],
      "text/plain": [
       "   Store  StoreType  Assortment  CompetitionDistance  \\\n",
       "0      1          3           1               1270.0   \n",
       "1      2          1           1                570.0   \n",
       "2      3          1           1              14130.0   \n",
       "3      4          3           3                620.0   \n",
       "4      5          1           1              29910.0   \n",
       "\n",
       "   CompetitionOpenSinceMonth  CompetitionOpenSinceYear  Promo2  \\\n",
       "0                        9.0                    2008.0       0   \n",
       "1                       11.0                    2007.0       1   \n",
       "2                       12.0                    2006.0       1   \n",
       "3                        9.0                    2009.0       0   \n",
       "4                        4.0                    2015.0       0   \n",
       "\n",
       "   Promo2SinceWeek  Promo2SinceYear    PromoInterval  \n",
       "0              0.0              0.0                0  \n",
       "1             13.0           2010.0  Jan,Apr,Jul,Oct  \n",
       "2             14.0           2011.0  Jan,Apr,Jul,Oct  \n",
       "3              0.0              0.0                0  \n",
       "4              0.0              0.0                0  "
      ]
     },
     "execution_count": 30,
     "metadata": {},
     "output_type": "execute_result"
    }
   ],
   "source": [
    "store_df.head()"
   ]
  },
  {
   "cell_type": "markdown",
   "metadata": {},
   "source": [
    "# Adding New Features\n",
    "\n",
    "**Seasons:**\n",
    "This was derived from the Date column by mapping months into four seasons: Winter(Dec-Feb), Spring(Mar-May), Summer(Jun-Aug), and Fall(Sep-Nov), and subsequently encoded. This feature captures seasonal sales trends influenced by customer behavior. \n",
    "\n",
    "**Competition Duration:**\n",
    " This was derived from the Date column by mapping months into four seasons: Winter(Dec-Feb), Spring(Mar-May), Summer(Jun-Aug), and Fall(Sep-Nov), and subsequently encoded. This feature captures seasonal sale trends influenced by customer behaviour. \n",
    "\n",
    "**Promo Years:**\n",
    "This represents the number of years a store has been participating in the Promo2 program. It highlights the long-term impact of promotional activities on sales."
   ]
  },
  {
   "cell_type": "code",
   "execution_count": 31,
   "metadata": {},
   "outputs": [
    {
     "name": "stderr",
     "output_type": "stream",
     "text": [
      "<ipython-input-31-d97daae11239>:14: UserWarning: Parsing dates in %d/%m/%Y format when dayfirst=False (the default) was specified. Pass `dayfirst=True` or specify a format to silence this warning.\n",
      "  test_df['Date'] = pd.to_datetime(test_df['Date'])\n"
     ]
    },
    {
     "name": "stdout",
     "output_type": "stream",
     "text": [
      "Train dataset with Season column:\n",
      "        Date  Season\n",
      "0 2015-07-31  Summer\n",
      "1 2015-07-31  Summer\n",
      "2 2015-07-31  Summer\n",
      "3 2015-07-31  Summer\n",
      "4 2015-07-31  Summer\n",
      "\n",
      "Test dataset with Season column:\n",
      "        Date Season\n",
      "0 2015-09-17   Fall\n",
      "1 2015-09-17   Fall\n",
      "2 2015-09-17   Fall\n",
      "3 2015-09-17   Fall\n",
      "4 2015-09-17   Fall\n"
     ]
    }
   ],
   "source": [
    "# Function to determine season based on month\n",
    "def get_season(month):\n",
    "    if month in [12, 1, 2]:\n",
    "        return 'Winter'\n",
    "    elif month in [3, 4, 5]:\n",
    "        return 'Spring'\n",
    "    elif month in [6, 7, 8]:\n",
    "        return 'Summer'\n",
    "    elif month in [9, 10, 11]:\n",
    "        return 'Fall'\n",
    "\n",
    "# Ensure 'Date' is in datetime format\n",
    "train_df['Date'] = pd.to_datetime(train_df['Date'])\n",
    "test_df['Date'] = pd.to_datetime(test_df['Date'])\n",
    "\n",
    "# Add 'Season' column to train_df\n",
    "train_df['Season'] = train_df['Date'].dt.month.apply(get_season)\n",
    "\n",
    "# Add 'Season' column to test_df\n",
    "test_df['Season'] = test_df['Date'].dt.month.apply(get_season)\n",
    "\n",
    "# Check the updated datasets\n",
    "print(\"Train dataset with Season column:\")\n",
    "print(train_df[['Date', 'Season']].head())\n",
    "\n",
    "print(\"\\nTest dataset with Season column:\")\n",
    "print(test_df[['Date', 'Season']].head())\n"
   ]
  },
  {
   "cell_type": "code",
   "execution_count": 32,
   "metadata": {},
   "outputs": [
    {
     "data": {
      "text/plain": [
       "Store             1115\n",
       "DayOfWeek            7\n",
       "Date               942\n",
       "Sales            21734\n",
       "Customers         4086\n",
       "Open                 1\n",
       "Promo                2\n",
       "StateHoliday         4\n",
       "SchoolHoliday        2\n",
       "Season               4\n",
       "dtype: int64"
      ]
     },
     "execution_count": 32,
     "metadata": {},
     "output_type": "execute_result"
    }
   ],
   "source": [
    "train_df.nunique()"
   ]
  },
  {
   "cell_type": "code",
   "execution_count": 33,
   "metadata": {},
   "outputs": [
    {
     "data": {
      "text/plain": [
       "Store            856\n",
       "DayOfWeek          7\n",
       "Date              48\n",
       "Sales              0\n",
       "Customers          0\n",
       "Open               2\n",
       "Promo              2\n",
       "StateHoliday       2\n",
       "SchoolHoliday      2\n",
       "Season             2\n",
       "dtype: int64"
      ]
     },
     "execution_count": 33,
     "metadata": {},
     "output_type": "execute_result"
    }
   ],
   "source": [
    "test_df.nunique()\n"
   ]
  },
  {
   "cell_type": "code",
   "execution_count": 34,
   "metadata": {},
   "outputs": [
    {
     "name": "stdout",
     "output_type": "stream",
     "text": [
      "   competition_duration  promo_years\n",
      "0                   198            0\n",
      "1                   209           14\n",
      "2                   220           13\n",
      "3                   186            0\n",
      "4                   118            0\n"
     ]
    },
    {
     "name": "stderr",
     "output_type": "stream",
     "text": [
      "<ipython-input-34-14ad775722f6>:5: FutureWarning: A value is trying to be set on a copy of a DataFrame or Series through chained assignment using an inplace method.\n",
      "The behavior will change in pandas 3.0. This inplace method will never work because the intermediate object on which we are setting values always behaves as a copy.\n",
      "\n",
      "For example, when doing 'df[col].method(value, inplace=True)', try using 'df.method({col: value}, inplace=True)' or df[col] = df[col].method(value) instead, to perform the operation inplace on the original object.\n",
      "\n",
      "\n",
      "  store_df['CompetitionOpenSinceYear'].fillna(0, inplace=True)\n",
      "<ipython-input-34-14ad775722f6>:6: FutureWarning: A value is trying to be set on a copy of a DataFrame or Series through chained assignment using an inplace method.\n",
      "The behavior will change in pandas 3.0. This inplace method will never work because the intermediate object on which we are setting values always behaves as a copy.\n",
      "\n",
      "For example, when doing 'df[col].method(value, inplace=True)', try using 'df.method({col: value}, inplace=True)' or df[col] = df[col].method(value) instead, to perform the operation inplace on the original object.\n",
      "\n",
      "\n",
      "  store_df['CompetitionOpenSinceMonth'].fillna(1, inplace=True)  # Default to January if missing\n",
      "<ipython-input-34-14ad775722f6>:19: FutureWarning: A value is trying to be set on a copy of a DataFrame or Series through chained assignment using an inplace method.\n",
      "The behavior will change in pandas 3.0. This inplace method will never work because the intermediate object on which we are setting values always behaves as a copy.\n",
      "\n",
      "For example, when doing 'df[col].method(value, inplace=True)', try using 'df.method({col: value}, inplace=True)' or df[col] = df[col].method(value) instead, to perform the operation inplace on the original object.\n",
      "\n",
      "\n",
      "  store_df['Promo2SinceYear'].fillna(0, inplace=True)\n",
      "<ipython-input-34-14ad775722f6>:20: FutureWarning: A value is trying to be set on a copy of a DataFrame or Series through chained assignment using an inplace method.\n",
      "The behavior will change in pandas 3.0. This inplace method will never work because the intermediate object on which we are setting values always behaves as a copy.\n",
      "\n",
      "For example, when doing 'df[col].method(value, inplace=True)', try using 'df.method({col: value}, inplace=True)' or df[col] = df[col].method(value) instead, to perform the operation inplace on the original object.\n",
      "\n",
      "\n",
      "  store_df['Promo2SinceWeek'].fillna(1, inplace=True)\n",
      "<ipython-input-34-14ad775722f6>:23: UserWarning: Could not infer format, so each element will be parsed individually, falling back to `dateutil`. To ensure parsing is consistent and as-expected, please specify a format.\n",
      "  store_df['Promo2StartDate'] = pd.to_datetime(\n",
      "<ipython-input-34-14ad775722f6>:28: FutureWarning: A value is trying to be set on a copy of a DataFrame or Series through chained assignment using an inplace method.\n",
      "The behavior will change in pandas 3.0. This inplace method will never work because the intermediate object on which we are setting values always behaves as a copy.\n",
      "\n",
      "For example, when doing 'df[col].method(value, inplace=True)', try using 'df.method({col: value}, inplace=True)' or df[col] = df[col].method(value) instead, to perform the operation inplace on the original object.\n",
      "\n",
      "\n",
      "  store_df['Promo2StartDate'].fillna(reference_date, inplace=True)\n"
     ]
    }
   ],
   "source": [
    "\n",
    "# Set a reference date for calculations (e.g., today's date)\n",
    "reference_date = pd.to_datetime('2025-01-01')\n",
    "\n",
    "# Ensure CompetitionOpenSinceYear and CompetitionOpenSinceMonth are filled\n",
    "store_df['CompetitionOpenSinceYear'].fillna(0, inplace=True)\n",
    "store_df['CompetitionOpenSinceMonth'].fillna(1, inplace=True)  # Default to January if missing\n",
    "\n",
    "# Calculate competition start date\n",
    "store_df['CompetitionStartDate'] = pd.to_datetime(\n",
    "    store_df['CompetitionOpenSinceYear'].astype(int).astype(str) + '-' +\n",
    "    store_df['CompetitionOpenSinceMonth'].astype(int).astype(str) + '-01',\n",
    "    errors='coerce'\n",
    ")\n",
    "\n",
    "# Calculate competition_duration (in months) since the competition started\n",
    "store_df['competition_duration'] = ((reference_date - store_df['CompetitionStartDate']).dt.days // 30).clip(lower=0)\n",
    "\n",
    "# Ensure Promo2SinceYear and Promo2SinceWeek are filled\n",
    "store_df['Promo2SinceYear'].fillna(0, inplace=True)\n",
    "store_df['Promo2SinceWeek'].fillna(1, inplace=True)\n",
    "\n",
    "# Calculate promo start date\n",
    "store_df['Promo2StartDate'] = pd.to_datetime(\n",
    "    store_df['Promo2SinceYear'].astype(int).astype(str) + '-01-01', errors='coerce'\n",
    ") + pd.to_timedelta(store_df['Promo2SinceWeek'].astype(int) * 7 - 7, unit='d')\n",
    "\n",
    "# Fill missing Promo2StartDate with the reference date (to indicate promo participation started recently)\n",
    "store_df['Promo2StartDate'].fillna(reference_date, inplace=True)\n",
    "\n",
    "# Calculate promo_years (in years) since the store started participating in Promo2\n",
    "store_df['promo_years'] = ((reference_date - store_df['Promo2StartDate']).dt.days // 365).clip(lower=0)\n",
    "\n",
    "# Drop intermediate columns if no longer needed\n",
    "store_df.drop(columns=['CompetitionStartDate', 'Promo2StartDate'], inplace=True)\n",
    "\n",
    "# Check the updated store dataset\n",
    "print(store_df[['competition_duration', 'promo_years']].head())\n"
   ]
  },
  {
   "cell_type": "code",
   "execution_count": 35,
   "metadata": {},
   "outputs": [
    {
     "data": {
      "text/html": [
       "<div>\n",
       "<style scoped>\n",
       "    .dataframe tbody tr th:only-of-type {\n",
       "        vertical-align: middle;\n",
       "    }\n",
       "\n",
       "    .dataframe tbody tr th {\n",
       "        vertical-align: top;\n",
       "    }\n",
       "\n",
       "    .dataframe thead th {\n",
       "        text-align: right;\n",
       "    }\n",
       "</style>\n",
       "<table border=\"1\" class=\"dataframe\">\n",
       "  <thead>\n",
       "    <tr style=\"text-align: right;\">\n",
       "      <th></th>\n",
       "      <th>Store</th>\n",
       "      <th>StoreType</th>\n",
       "      <th>Assortment</th>\n",
       "      <th>CompetitionDistance</th>\n",
       "      <th>CompetitionOpenSinceMonth</th>\n",
       "      <th>CompetitionOpenSinceYear</th>\n",
       "      <th>Promo2</th>\n",
       "      <th>Promo2SinceWeek</th>\n",
       "      <th>Promo2SinceYear</th>\n",
       "      <th>PromoInterval</th>\n",
       "      <th>competition_duration</th>\n",
       "      <th>promo_years</th>\n",
       "    </tr>\n",
       "  </thead>\n",
       "  <tbody>\n",
       "    <tr>\n",
       "      <th>0</th>\n",
       "      <td>1</td>\n",
       "      <td>3</td>\n",
       "      <td>1</td>\n",
       "      <td>1270.0</td>\n",
       "      <td>9.0</td>\n",
       "      <td>2008.0</td>\n",
       "      <td>0</td>\n",
       "      <td>0.0</td>\n",
       "      <td>0.0</td>\n",
       "      <td>0</td>\n",
       "      <td>198</td>\n",
       "      <td>0</td>\n",
       "    </tr>\n",
       "    <tr>\n",
       "      <th>1</th>\n",
       "      <td>2</td>\n",
       "      <td>1</td>\n",
       "      <td>1</td>\n",
       "      <td>570.0</td>\n",
       "      <td>11.0</td>\n",
       "      <td>2007.0</td>\n",
       "      <td>1</td>\n",
       "      <td>13.0</td>\n",
       "      <td>2010.0</td>\n",
       "      <td>Jan,Apr,Jul,Oct</td>\n",
       "      <td>209</td>\n",
       "      <td>14</td>\n",
       "    </tr>\n",
       "    <tr>\n",
       "      <th>2</th>\n",
       "      <td>3</td>\n",
       "      <td>1</td>\n",
       "      <td>1</td>\n",
       "      <td>14130.0</td>\n",
       "      <td>12.0</td>\n",
       "      <td>2006.0</td>\n",
       "      <td>1</td>\n",
       "      <td>14.0</td>\n",
       "      <td>2011.0</td>\n",
       "      <td>Jan,Apr,Jul,Oct</td>\n",
       "      <td>220</td>\n",
       "      <td>13</td>\n",
       "    </tr>\n",
       "    <tr>\n",
       "      <th>3</th>\n",
       "      <td>4</td>\n",
       "      <td>3</td>\n",
       "      <td>3</td>\n",
       "      <td>620.0</td>\n",
       "      <td>9.0</td>\n",
       "      <td>2009.0</td>\n",
       "      <td>0</td>\n",
       "      <td>0.0</td>\n",
       "      <td>0.0</td>\n",
       "      <td>0</td>\n",
       "      <td>186</td>\n",
       "      <td>0</td>\n",
       "    </tr>\n",
       "    <tr>\n",
       "      <th>4</th>\n",
       "      <td>5</td>\n",
       "      <td>1</td>\n",
       "      <td>1</td>\n",
       "      <td>29910.0</td>\n",
       "      <td>4.0</td>\n",
       "      <td>2015.0</td>\n",
       "      <td>0</td>\n",
       "      <td>0.0</td>\n",
       "      <td>0.0</td>\n",
       "      <td>0</td>\n",
       "      <td>118</td>\n",
       "      <td>0</td>\n",
       "    </tr>\n",
       "  </tbody>\n",
       "</table>\n",
       "</div>"
      ],
      "text/plain": [
       "   Store  StoreType  Assortment  CompetitionDistance  \\\n",
       "0      1          3           1               1270.0   \n",
       "1      2          1           1                570.0   \n",
       "2      3          1           1              14130.0   \n",
       "3      4          3           3                620.0   \n",
       "4      5          1           1              29910.0   \n",
       "\n",
       "   CompetitionOpenSinceMonth  CompetitionOpenSinceYear  Promo2  \\\n",
       "0                        9.0                    2008.0       0   \n",
       "1                       11.0                    2007.0       1   \n",
       "2                       12.0                    2006.0       1   \n",
       "3                        9.0                    2009.0       0   \n",
       "4                        4.0                    2015.0       0   \n",
       "\n",
       "   Promo2SinceWeek  Promo2SinceYear    PromoInterval  competition_duration  \\\n",
       "0              0.0              0.0                0                   198   \n",
       "1             13.0           2010.0  Jan,Apr,Jul,Oct                   209   \n",
       "2             14.0           2011.0  Jan,Apr,Jul,Oct                   220   \n",
       "3              0.0              0.0                0                   186   \n",
       "4              0.0              0.0                0                   118   \n",
       "\n",
       "   promo_years  \n",
       "0            0  \n",
       "1           14  \n",
       "2           13  \n",
       "3            0  \n",
       "4            0  "
      ]
     },
     "execution_count": 35,
     "metadata": {},
     "output_type": "execute_result"
    }
   ],
   "source": [
    "store_df.head()"
   ]
  },
  {
   "cell_type": "code",
   "execution_count": 36,
   "metadata": {},
   "outputs": [
    {
     "data": {
      "text/plain": [
       "Store                0\n",
       "DayOfWeek            0\n",
       "Date                 0\n",
       "Sales            41088\n",
       "Customers        41088\n",
       "Open                11\n",
       "Promo                0\n",
       "StateHoliday         0\n",
       "SchoolHoliday        0\n",
       "Season               0\n",
       "dtype: int64"
      ]
     },
     "execution_count": 36,
     "metadata": {},
     "output_type": "execute_result"
    }
   ],
   "source": [
    "test_df.isnull().sum()"
   ]
  },
  {
   "cell_type": "code",
   "execution_count": 37,
   "metadata": {},
   "outputs": [
    {
     "name": "stdout",
     "output_type": "stream",
     "text": [
      "Train dataset 'Season' column unique values: [3 2 1 4]\n",
      "Test dataset 'Season' column unique values: [4 3]\n"
     ]
    }
   ],
   "source": [
    "# Mapping of seasons to numeric values\n",
    "season_mapping = {'Winter': 1, 'Spring': 2, 'Summer': 3, 'Fall': 4}\n",
    "\n",
    "# Convert 'Season' in train dataset\n",
    "train_df['Season'] = train_df['Season'].map(season_mapping)\n",
    "\n",
    "# Convert 'Season' in test dataset\n",
    "test_df['Season'] = test_df['Season'].map(season_mapping)\n",
    "\n",
    "# Verify the transformation\n",
    "print(\"Train dataset 'Season' column unique values:\", train_df['Season'].unique())\n",
    "print(\"Test dataset 'Season' column unique values:\", test_df['Season'].unique())\n"
   ]
  },
  {
   "cell_type": "markdown",
   "metadata": {},
   "source": [
    "# Let’s Visualize?"
   ]
  },
  {
   "cell_type": "code",
   "execution_count": 38,
   "metadata": {},
   "outputs": [
    {
     "data": {
      "image/png": "[encoded data removed]",
      "text/plain": [
       "<Figure size 1008x576 with 1 Axes>"
      ]
     },
     "metadata": {
      "needs_background": "light"
     },
     "output_type": "display_data"
    }
   ],
   "source": [
    "\n",
    "# Ensure 'Date' column is in datetime format\n",
    "train_df['Date'] = pd.to_datetime(train_df['Date'])\n",
    "\n",
    "# Aggregate sales by date\n",
    "sales_trend = train_df.groupby('Date')['Sales'].sum().reset_index()\n",
    "\n",
    "# Plot sales trends over time\n",
    "plt.figure(figsize=(14, 8))\n",
    "plt.plot(sales_trend['Date'], sales_trend['Sales'], color='red', linewidth=2)\n",
    "plt.title('Sales Trends Over Time', fontsize=18)\n",
    "plt.xlabel('Date', fontsize=14)\n",
    "plt.ylabel('Total Sales', fontsize=14)\n",
    "plt.xticks(fontsize=12, rotation=45)\n",
    "plt.yticks(fontsize=12)\n",
    "plt.grid(visible=True, linestyle='--', alpha=0.7)\n",
    "plt.tight_layout()\n",
    "plt.show()\n"
   ]
  },
  {
   "cell_type": "code",
   "execution_count": 39,
   "metadata": {},
   "outputs": [
    {
     "name": "stderr",
     "output_type": "stream",
     "text": [
      "<ipython-input-39-1690c96595ed>:14: FutureWarning: \n",
      "\n",
      "Passing `palette` without assigning `hue` is deprecated and will be removed in v0.14.0. Assign the `x` variable to `hue` and set `legend=False` for the same effect.\n",
      "\n",
      "  sns.barplot(x='DayOfWeek', y='Sales', data=sales_by_day, palette='coolwarm')\n"
     ]
    },
    {
     "data": {
      "image/png": "[encoded data removed]",
      "text/plain": [
       "<Figure size 864x432 with 1 Axes>"
      ]
     },
     "metadata": {
      "needs_background": "light"
     },
     "output_type": "display_data"
    }
   ],
   "source": [
    "\n",
    "# Group sales by DayOfWeek\n",
    "sales_by_day = train_df.groupby('DayOfWeek')['Sales'].mean().reset_index()\n",
    "\n",
    "# Map DayOfWeek numbers to names (assuming Monday = 1, Sunday = 7)\n",
    "day_mapping = {1: 'Monday', 2: 'Tuesday', 3: 'Wednesday', 4: 'Thursday', 5: 'Friday', 6: 'Saturday', 7: 'Sunday'}\n",
    "sales_by_day['DayOfWeek'] = sales_by_day['DayOfWeek'].map(day_mapping)\n",
    "\n",
    "# Sort by weekday order\n",
    "sales_by_day['DayOfWeek'] = pd.Categorical(sales_by_day['DayOfWeek'], categories=list(day_mapping.values()), ordered=True)\n",
    "sales_by_day = sales_by_day.sort_values('DayOfWeek')\n",
    "\n",
    "# Plot the bar chart\n",
    "plt.figure(figsize=(12, 6))\n",
    "sns.barplot(x='DayOfWeek', y='Sales', data=sales_by_day, palette='coolwarm')\n",
    "plt.title('Sales Distribution by Day of the Week', fontsize=18)\n",
    "plt.xlabel('Day of the Week', fontsize=14)\n",
    "plt.ylabel('Average Sales', fontsize=14)\n",
    "plt.xticks(fontsize=12)\n",
    "plt.yticks(fontsize=12)\n",
    "plt.tight_layout()\n",
    "plt.show()\n"
   ]
  },
  {
   "cell_type": "code",
   "execution_count": 40,
   "metadata": {},
   "outputs": [
    {
     "name": "stderr",
     "output_type": "stream",
     "text": [
      "<ipython-input-40-f63d29e6150e>:6: FutureWarning: \n",
      "\n",
      "Passing `palette` without assigning `hue` is deprecated and will be removed in v0.14.0. Assign the `x` variable to `hue` and set `legend=False` for the same effect.\n",
      "\n",
      "  sns.barplot(x='Promo', y='Sales', data=promo_sales, palette='RdBu')\n"
     ]
    },
    {
     "data": {
      "image/png": "[encoded data removed]",
      "text/plain": [
       "<Figure size 720x432 with 1 Axes>"
      ]
     },
     "metadata": {
      "needs_background": "light"
     },
     "output_type": "display_data"
    }
   ],
   "source": [
    "\n",
    "# Group sales by Promo status (1 = Promotion, 0 = No Promotion)\n",
    "promo_sales = train_df.groupby('Promo')['Sales'].mean().reset_index()\n",
    "\n",
    "# Plot a bar chart to compare sales with and without promotions\n",
    "plt.figure(figsize=(10, 6))\n",
    "sns.barplot(x='Promo', y='Sales', data=promo_sales, palette='RdBu')\n",
    "plt.title('Impact of Promotions on Sales', fontsize=18)\n",
    "plt.xlabel('Promotion Status (1 = Promo, 0 = No Promo)', fontsize=14)\n",
    "plt.ylabel('Average Sales', fontsize=14)\n",
    "plt.xticks(fontsize=12)\n",
    "plt.yticks(fontsize=12)\n",
    "plt.tight_layout()\n",
    "plt.show()\n"
   ]
  },
  {
   "cell_type": "code",
   "execution_count": 41,
   "metadata": {},
   "outputs": [
    {
     "name": "stderr",
     "output_type": "stream",
     "text": [
      "<ipython-input-41-96e502a14841>:6: FutureWarning: \n",
      "\n",
      "Passing `palette` without assigning `hue` is deprecated and will be removed in v0.14.0. Assign the `x` variable to `hue` and set `legend=False` for the same effect.\n",
      "\n",
      "  sns.barplot(x='StateHoliday', y='Sales', data=state_holiday_sales, palette='coolwarm')\n"
     ]
    },
    {
     "data": {
      "image/png": "[encoded data removed]",
      "text/plain": [
       "<Figure size 720x432 with 1 Axes>"
      ]
     },
     "metadata": {
      "needs_background": "light"
     },
     "output_type": "display_data"
    }
   ],
   "source": [
    "# Group by StateHoliday and calculate average sales\n",
    "state_holiday_sales = train_df.groupby('StateHoliday')['Sales'].mean().reset_index()\n",
    "\n",
    "# Plot the bar chart\n",
    "plt.figure(figsize=(10, 6))\n",
    "sns.barplot(x='StateHoliday', y='Sales', data=state_holiday_sales, palette='coolwarm')\n",
    "plt.title('Effect of State Holidays on Sales', fontsize=18)\n",
    "plt.xlabel('State Holiday (a = Public Holiday, b = Easter Holiday, c = Christmas, 0 = None)', fontsize=14)\n",
    "plt.ylabel('Average Sales', fontsize=14)\n",
    "plt.xticks(fontsize=12)\n",
    "plt.yticks(fontsize=12)\n",
    "plt.tight_layout()\n",
    "plt.show()\n"
   ]
  },
  {
   "cell_type": "markdown",
   "metadata": {},
   "source": [
    "# Merging Datasets\n",
    "\n",
    "Store dataset was merged using left join with train and test datasets individually on the Store Column to combine relevant information from multiple sources into a single dataset for analysis and modelling.\n"
   ]
  },
  {
   "cell_type": "code",
   "execution_count": 42,
   "metadata": {},
   "outputs": [
    {
     "name": "stdout",
     "output_type": "stream",
     "text": [
      "Missing stores in train dataset after merge: 0\n",
      "Missing stores in test dataset after merge: 0\n",
      "Train Dataset (merged) preview:\n",
      "   Store  DayOfWeek       Date  Sales  Customers  Open  Promo  StateHoliday  \\\n",
      "0      1          5 2015-07-31   5263        555     1      1             0   \n",
      "1      2          5 2015-07-31   6064        625     1      1             0   \n",
      "2      3          5 2015-07-31   8314        821     1      1             0   \n",
      "3      4          5 2015-07-31  13995       1498     1      1             0   \n",
      "4      5          5 2015-07-31   4822        559     1      1             0   \n",
      "\n",
      "   SchoolHoliday  Season  ...  Assortment  CompetitionDistance  \\\n",
      "0              1       3  ...           1               1270.0   \n",
      "1              1       3  ...           1                570.0   \n",
      "2              1       3  ...           1              14130.0   \n",
      "3              1       3  ...           3                620.0   \n",
      "4              1       3  ...           1              29910.0   \n",
      "\n",
      "   CompetitionOpenSinceMonth  CompetitionOpenSinceYear  Promo2  \\\n",
      "0                        9.0                    2008.0       0   \n",
      "1                       11.0                    2007.0       1   \n",
      "2                       12.0                    2006.0       1   \n",
      "3                        9.0                    2009.0       0   \n",
      "4                        4.0                    2015.0       0   \n",
      "\n",
      "   Promo2SinceWeek  Promo2SinceYear    PromoInterval competition_duration  \\\n",
      "0              0.0              0.0                0                  198   \n",
      "1             13.0           2010.0  Jan,Apr,Jul,Oct                  209   \n",
      "2             14.0           2011.0  Jan,Apr,Jul,Oct                  220   \n",
      "3              0.0              0.0                0                  186   \n",
      "4              0.0              0.0                0                  118   \n",
      "\n",
      "   promo_years  \n",
      "0            0  \n",
      "1           14  \n",
      "2           13  \n",
      "3            0  \n",
      "4            0  \n",
      "\n",
      "[5 rows x 21 columns]\n",
      "\n",
      "Test Dataset (merged) preview:\n",
      "   Store  DayOfWeek       Date  Sales  Customers  Open  Promo StateHoliday  \\\n",
      "0      1          4 2015-09-17    NaN        NaN   1.0      1            0   \n",
      "1      3          4 2015-09-17    NaN        NaN   1.0      1            0   \n",
      "2      7          4 2015-09-17    NaN        NaN   1.0      1            0   \n",
      "3      8          4 2015-09-17    NaN        NaN   1.0      1            0   \n",
      "4      9          4 2015-09-17    NaN        NaN   1.0      1            0   \n",
      "\n",
      "   SchoolHoliday  Season  ...  Assortment  CompetitionDistance  \\\n",
      "0              0       4  ...           1               1270.0   \n",
      "1              0       4  ...           1              14130.0   \n",
      "2              0       4  ...           3              24000.0   \n",
      "3              0       4  ...           1               7520.0   \n",
      "4              0       4  ...           3               2030.0   \n",
      "\n",
      "   CompetitionOpenSinceMonth  CompetitionOpenSinceYear  Promo2  \\\n",
      "0                        9.0                    2008.0       0   \n",
      "1                       12.0                    2006.0       1   \n",
      "2                        4.0                    2013.0       0   \n",
      "3                       10.0                    2014.0       0   \n",
      "4                        8.0                    2000.0       0   \n",
      "\n",
      "   Promo2SinceWeek  Promo2SinceYear    PromoInterval competition_duration  \\\n",
      "0              0.0              0.0                0                  198   \n",
      "1             14.0           2011.0  Jan,Apr,Jul,Oct                  220   \n",
      "2              0.0              0.0                0                  143   \n",
      "3              0.0              0.0                0                  124   \n",
      "4              0.0              0.0                0                  297   \n",
      "\n",
      "   promo_years  \n",
      "0            0  \n",
      "1           13  \n",
      "2            0  \n",
      "3            0  \n",
      "4            0  \n",
      "\n",
      "[5 rows x 21 columns]\n"
     ]
    }
   ],
   "source": [
    "\n",
    "\n",
    "# Merge datasets\n",
    "# Left join to ensure all train/test rows are retained even if store info is missing\n",
    "train_merged = train_df.merge(store_df, on='Store', how='left')\n",
    "test_merged = test_df.merge(store_df, on='Store', how='left')\n",
    "\n",
    "# Check for missing stores in the merged datasets\n",
    "missing_train_stores = train_merged[train_merged['Store'].isnull()]\n",
    "missing_test_stores = test_merged[test_merged['Store'].isnull()]\n",
    "\n",
    "print(f\"Missing stores in train dataset after merge: {missing_train_stores.shape[0]}\")\n",
    "print(f\"Missing stores in test dataset after merge: {missing_test_stores.shape[0]}\")\n",
    "\n",
    "# Display merged dataset previews\n",
    "print(\"Train Dataset (merged) preview:\")\n",
    "print(train_merged.head())\n",
    "\n",
    "print(\"\\nTest Dataset (merged) preview:\")\n",
    "print(test_merged.head())\n",
    "\n",
    "\n"
   ]
  },
  {
   "cell_type": "code",
   "execution_count": 43,
   "metadata": {},
   "outputs": [
    {
     "name": "stderr",
     "output_type": "stream",
     "text": [
      "<ipython-input-43-a4349ce5c1fa>:6: FutureWarning: \n",
      "\n",
      "Passing `palette` without assigning `hue` is deprecated and will be removed in v0.14.0. Assign the `x` variable to `hue` and set `legend=False` for the same effect.\n",
      "\n",
      "  sns.barplot(\n"
     ]
    },
    {
     "data": {
      "image/png": "[encoded data removed]",
      "text/plain": [
       "<Figure size 576x432 with 1 Axes>"
      ]
     },
     "metadata": {
      "needs_background": "light"
     },
     "output_type": "display_data"
    }
   ],
   "source": [
    "\n",
    "# Count open, closed, and missing values in the \"Open\" column\n",
    "open_status = test_merged['Open'].value_counts(dropna=False)\n",
    "\n",
    "# Plot the open status as a bar chart\n",
    "plt.figure(figsize=(8, 6))\n",
    "sns.barplot(\n",
    "    x=open_status.index, \n",
    "    y=open_status.values, \n",
    "    palette=\"coolwarm\"\n",
    ")\n",
    "plt.title(\"Open Status in Test Dataset\", fontsize=16)\n",
    "plt.xlabel(\"Open Status (1=Open, 0=Closed, NaN=Missing)\", fontsize=12)\n",
    "plt.ylabel(\"Count\", fontsize=12)\n",
    "plt.xticks(ticks=[0, 1, 2], labels=[\"Closed (0)\", \"Open (1)\", \"Missing (NaN)\"], fontsize=10)\n",
    "plt.tight_layout()\n",
    "plt.show()\n",
    "\n"
   ]
  },
  {
   "cell_type": "code",
   "execution_count": 44,
   "metadata": {},
   "outputs": [
    {
     "data": {
      "text/html": [
       "<div>\n",
       "<style scoped>\n",
       "    .dataframe tbody tr th:only-of-type {\n",
       "        vertical-align: middle;\n",
       "    }\n",
       "\n",
       "    .dataframe tbody tr th {\n",
       "        vertical-align: top;\n",
       "    }\n",
       "\n",
       "    .dataframe thead th {\n",
       "        text-align: right;\n",
       "    }\n",
       "</style>\n",
       "<table border=\"1\" class=\"dataframe\">\n",
       "  <thead>\n",
       "    <tr style=\"text-align: right;\">\n",
       "      <th></th>\n",
       "      <th>Store</th>\n",
       "      <th>DayOfWeek</th>\n",
       "      <th>Date</th>\n",
       "      <th>Sales</th>\n",
       "      <th>Customers</th>\n",
       "      <th>Open</th>\n",
       "      <th>Promo</th>\n",
       "      <th>StateHoliday</th>\n",
       "      <th>SchoolHoliday</th>\n",
       "      <th>Season</th>\n",
       "      <th>...</th>\n",
       "      <th>Assortment</th>\n",
       "      <th>CompetitionDistance</th>\n",
       "      <th>CompetitionOpenSinceMonth</th>\n",
       "      <th>CompetitionOpenSinceYear</th>\n",
       "      <th>Promo2</th>\n",
       "      <th>Promo2SinceWeek</th>\n",
       "      <th>Promo2SinceYear</th>\n",
       "      <th>PromoInterval</th>\n",
       "      <th>competition_duration</th>\n",
       "      <th>promo_years</th>\n",
       "    </tr>\n",
       "  </thead>\n",
       "  <tbody>\n",
       "    <tr>\n",
       "      <th>0</th>\n",
       "      <td>1</td>\n",
       "      <td>5</td>\n",
       "      <td>2015-07-31</td>\n",
       "      <td>5263</td>\n",
       "      <td>555</td>\n",
       "      <td>1</td>\n",
       "      <td>1</td>\n",
       "      <td>0</td>\n",
       "      <td>1</td>\n",
       "      <td>3</td>\n",
       "      <td>...</td>\n",
       "      <td>1</td>\n",
       "      <td>1270.0</td>\n",
       "      <td>9.0</td>\n",
       "      <td>2008.0</td>\n",
       "      <td>0</td>\n",
       "      <td>0.0</td>\n",
       "      <td>0.0</td>\n",
       "      <td>0</td>\n",
       "      <td>198</td>\n",
       "      <td>0</td>\n",
       "    </tr>\n",
       "    <tr>\n",
       "      <th>1</th>\n",
       "      <td>2</td>\n",
       "      <td>5</td>\n",
       "      <td>2015-07-31</td>\n",
       "      <td>6064</td>\n",
       "      <td>625</td>\n",
       "      <td>1</td>\n",
       "      <td>1</td>\n",
       "      <td>0</td>\n",
       "      <td>1</td>\n",
       "      <td>3</td>\n",
       "      <td>...</td>\n",
       "      <td>1</td>\n",
       "      <td>570.0</td>\n",
       "      <td>11.0</td>\n",
       "      <td>2007.0</td>\n",
       "      <td>1</td>\n",
       "      <td>13.0</td>\n",
       "      <td>2010.0</td>\n",
       "      <td>Jan,Apr,Jul,Oct</td>\n",
       "      <td>209</td>\n",
       "      <td>14</td>\n",
       "    </tr>\n",
       "    <tr>\n",
       "      <th>2</th>\n",
       "      <td>3</td>\n",
       "      <td>5</td>\n",
       "      <td>2015-07-31</td>\n",
       "      <td>8314</td>\n",
       "      <td>821</td>\n",
       "      <td>1</td>\n",
       "      <td>1</td>\n",
       "      <td>0</td>\n",
       "      <td>1</td>\n",
       "      <td>3</td>\n",
       "      <td>...</td>\n",
       "      <td>1</td>\n",
       "      <td>14130.0</td>\n",
       "      <td>12.0</td>\n",
       "      <td>2006.0</td>\n",
       "      <td>1</td>\n",
       "      <td>14.0</td>\n",
       "      <td>2011.0</td>\n",
       "      <td>Jan,Apr,Jul,Oct</td>\n",
       "      <td>220</td>\n",
       "      <td>13</td>\n",
       "    </tr>\n",
       "    <tr>\n",
       "      <th>3</th>\n",
       "      <td>4</td>\n",
       "      <td>5</td>\n",
       "      <td>2015-07-31</td>\n",
       "      <td>13995</td>\n",
       "      <td>1498</td>\n",
       "      <td>1</td>\n",
       "      <td>1</td>\n",
       "      <td>0</td>\n",
       "      <td>1</td>\n",
       "      <td>3</td>\n",
       "      <td>...</td>\n",
       "      <td>3</td>\n",
       "      <td>620.0</td>\n",
       "      <td>9.0</td>\n",
       "      <td>2009.0</td>\n",
       "      <td>0</td>\n",
       "      <td>0.0</td>\n",
       "      <td>0.0</td>\n",
       "      <td>0</td>\n",
       "      <td>186</td>\n",
       "      <td>0</td>\n",
       "    </tr>\n",
       "    <tr>\n",
       "      <th>4</th>\n",
       "      <td>5</td>\n",
       "      <td>5</td>\n",
       "      <td>2015-07-31</td>\n",
       "      <td>4822</td>\n",
       "      <td>559</td>\n",
       "      <td>1</td>\n",
       "      <td>1</td>\n",
       "      <td>0</td>\n",
       "      <td>1</td>\n",
       "      <td>3</td>\n",
       "      <td>...</td>\n",
       "      <td>1</td>\n",
       "      <td>29910.0</td>\n",
       "      <td>4.0</td>\n",
       "      <td>2015.0</td>\n",
       "      <td>0</td>\n",
       "      <td>0.0</td>\n",
       "      <td>0.0</td>\n",
       "      <td>0</td>\n",
       "      <td>118</td>\n",
       "      <td>0</td>\n",
       "    </tr>\n",
       "  </tbody>\n",
       "</table>\n",
       "<p>5 rows × 21 columns</p>\n",
       "</div>"
      ],
      "text/plain": [
       "   Store  DayOfWeek       Date  Sales  Customers  Open  Promo  StateHoliday  \\\n",
       "0      1          5 2015-07-31   5263        555     1      1             0   \n",
       "1      2          5 2015-07-31   6064        625     1      1             0   \n",
       "2      3          5 2015-07-31   8314        821     1      1             0   \n",
       "3      4          5 2015-07-31  13995       1498     1      1             0   \n",
       "4      5          5 2015-07-31   4822        559     1      1             0   \n",
       "\n",
       "   SchoolHoliday  Season  ...  Assortment  CompetitionDistance  \\\n",
       "0              1       3  ...           1               1270.0   \n",
       "1              1       3  ...           1                570.0   \n",
       "2              1       3  ...           1              14130.0   \n",
       "3              1       3  ...           3                620.0   \n",
       "4              1       3  ...           1              29910.0   \n",
       "\n",
       "   CompetitionOpenSinceMonth  CompetitionOpenSinceYear  Promo2  \\\n",
       "0                        9.0                    2008.0       0   \n",
       "1                       11.0                    2007.0       1   \n",
       "2                       12.0                    2006.0       1   \n",
       "3                        9.0                    2009.0       0   \n",
       "4                        4.0                    2015.0       0   \n",
       "\n",
       "   Promo2SinceWeek  Promo2SinceYear    PromoInterval competition_duration  \\\n",
       "0              0.0              0.0                0                  198   \n",
       "1             13.0           2010.0  Jan,Apr,Jul,Oct                  209   \n",
       "2             14.0           2011.0  Jan,Apr,Jul,Oct                  220   \n",
       "3              0.0              0.0                0                  186   \n",
       "4              0.0              0.0                0                  118   \n",
       "\n",
       "   promo_years  \n",
       "0            0  \n",
       "1           14  \n",
       "2           13  \n",
       "3            0  \n",
       "4            0  \n",
       "\n",
       "[5 rows x 21 columns]"
      ]
     },
     "execution_count": 44,
     "metadata": {},
     "output_type": "execute_result"
    }
   ],
   "source": [
    "train_merged.head()"
   ]
  },
  {
   "cell_type": "code",
   "execution_count": 45,
   "metadata": {},
   "outputs": [
    {
     "name": "stderr",
     "output_type": "stream",
     "text": [
      "<ipython-input-45-a206bf73b2b1>:3: FutureWarning: \n",
      "\n",
      "Passing `palette` without assigning `hue` is deprecated and will be removed in v0.14.0. Assign the `x` variable to `hue` and set `legend=False` for the same effect.\n",
      "\n",
      "  sns.violinplot(x='StoreType', y='Sales', data=train_merged, palette='coolwarm', scale='width', inner='box')\n",
      "<ipython-input-45-a206bf73b2b1>:3: FutureWarning: \n",
      "\n",
      "The `scale` parameter has been renamed and will be removed in v0.15.0. Pass `density_norm='width'` for the same effect.\n",
      "  sns.violinplot(x='StoreType', y='Sales', data=train_merged, palette='coolwarm', scale='width', inner='box')\n"
     ]
    },
    {
     "data": {
      "image/png": "[encoded data removed]",
      "text/plain": [
       "<Figure size 864x432 with 1 Axes>"
      ]
     },
     "metadata": {
      "needs_background": "light"
     },
     "output_type": "display_data"
    }
   ],
   "source": [
    "# Create a violin plot\n",
    "plt.figure(figsize=(12, 6))\n",
    "sns.violinplot(x='StoreType', y='Sales', data=train_merged, palette='coolwarm', scale='width', inner='box')\n",
    "plt.title('Sales Distribution by Store Type (Violin Plot)', fontsize=18)\n",
    "plt.xlabel('Store Type', fontsize=14)\n",
    "plt.ylabel('Sales', fontsize=14)\n",
    "plt.xticks(fontsize=12)\n",
    "plt.yticks(fontsize=12)\n",
    "plt.tight_layout()\n",
    "plt.show()\n"
   ]
  },
  {
   "cell_type": "markdown",
   "metadata": {},
   "source": [
    "# Train Merged Dataset Checks"
   ]
  },
  {
   "cell_type": "code",
   "execution_count": 46,
   "metadata": {},
   "outputs": [
    {
     "data": {
      "text/plain": [
       "Store                        0\n",
       "DayOfWeek                    0\n",
       "Date                         0\n",
       "Sales                        0\n",
       "Customers                    0\n",
       "Open                         0\n",
       "Promo                        0\n",
       "StateHoliday                 0\n",
       "SchoolHoliday                0\n",
       "Season                       0\n",
       "StoreType                    0\n",
       "Assortment                   0\n",
       "CompetitionDistance          0\n",
       "CompetitionOpenSinceMonth    0\n",
       "CompetitionOpenSinceYear     0\n",
       "Promo2                       0\n",
       "Promo2SinceWeek              0\n",
       "Promo2SinceYear              0\n",
       "PromoInterval                0\n",
       "competition_duration         0\n",
       "promo_years                  0\n",
       "dtype: int64"
      ]
     },
     "execution_count": 46,
     "metadata": {},
     "output_type": "execute_result"
    }
   ],
   "source": [
    "train_merged.isnull().sum()"
   ]
  },
  {
   "cell_type": "code",
   "execution_count": 47,
   "metadata": {},
   "outputs": [
    {
     "data": {
      "text/plain": [
       "Store                         1115\n",
       "DayOfWeek                        7\n",
       "Date                           942\n",
       "Sales                        21734\n",
       "Customers                     4086\n",
       "Open                             1\n",
       "Promo                            2\n",
       "StateHoliday                     4\n",
       "SchoolHoliday                    2\n",
       "Season                           4\n",
       "StoreType                        4\n",
       "Assortment                       3\n",
       "CompetitionDistance            655\n",
       "CompetitionOpenSinceMonth       12\n",
       "CompetitionOpenSinceYear        23\n",
       "Promo2                           2\n",
       "Promo2SinceWeek                 25\n",
       "Promo2SinceYear                  8\n",
       "PromoInterval                    4\n",
       "competition_duration           170\n",
       "promo_years                      8\n",
       "dtype: int64"
      ]
     },
     "execution_count": 47,
     "metadata": {},
     "output_type": "execute_result"
    }
   ],
   "source": [
    "train_merged.nunique()"
   ]
  },
  {
   "cell_type": "code",
   "execution_count": 48,
   "metadata": {},
   "outputs": [
    {
     "name": "stdout",
     "output_type": "stream",
     "text": [
      "<class 'pandas.core.frame.DataFrame'>\n",
      "RangeIndex: 844392 entries, 0 to 844391\n",
      "Data columns (total 21 columns):\n",
      " #   Column                     Non-Null Count   Dtype         \n",
      "---  ------                     --------------   -----         \n",
      " 0   Store                      844392 non-null  int64         \n",
      " 1   DayOfWeek                  844392 non-null  int64         \n",
      " 2   Date                       844392 non-null  datetime64[ns]\n",
      " 3   Sales                      844392 non-null  int64         \n",
      " 4   Customers                  844392 non-null  int64         \n",
      " 5   Open                       844392 non-null  int64         \n",
      " 6   Promo                      844392 non-null  int64         \n",
      " 7   StateHoliday               844392 non-null  int64         \n",
      " 8   SchoolHoliday              844392 non-null  int64         \n",
      " 9   Season                     844392 non-null  int64         \n",
      " 10  StoreType                  844392 non-null  int64         \n",
      " 11  Assortment                 844392 non-null  int64         \n",
      " 12  CompetitionDistance        844392 non-null  float64       \n",
      " 13  CompetitionOpenSinceMonth  844392 non-null  float64       \n",
      " 14  CompetitionOpenSinceYear   844392 non-null  float64       \n",
      " 15  Promo2                     844392 non-null  int64         \n",
      " 16  Promo2SinceWeek            844392 non-null  float64       \n",
      " 17  Promo2SinceYear            844392 non-null  float64       \n",
      " 18  PromoInterval              844392 non-null  object        \n",
      " 19  competition_duration       844392 non-null  int64         \n",
      " 20  promo_years                844392 non-null  int64         \n",
      "dtypes: datetime64[ns](1), float64(5), int64(14), object(1)\n",
      "memory usage: 135.3+ MB\n"
     ]
    }
   ],
   "source": [
    "train_merged.info()"
   ]
  },
  {
   "cell_type": "markdown",
   "metadata": {},
   "source": [
    "# Test Merged Dataset Checks"
   ]
  },
  {
   "cell_type": "code",
   "execution_count": 49,
   "metadata": {},
   "outputs": [
    {
     "data": {
      "text/plain": [
       "Store                        856\n",
       "DayOfWeek                      7\n",
       "Date                          48\n",
       "Sales                          0\n",
       "Customers                      0\n",
       "Open                           2\n",
       "Promo                          2\n",
       "StateHoliday                   2\n",
       "SchoolHoliday                  2\n",
       "Season                         2\n",
       "StoreType                      4\n",
       "Assortment                     3\n",
       "CompetitionDistance          555\n",
       "CompetitionOpenSinceMonth     12\n",
       "CompetitionOpenSinceYear      23\n",
       "Promo2                         2\n",
       "Promo2SinceWeek               22\n",
       "Promo2SinceYear                8\n",
       "PromoInterval                  4\n",
       "competition_duration         159\n",
       "promo_years                    8\n",
       "dtype: int64"
      ]
     },
     "execution_count": 49,
     "metadata": {},
     "output_type": "execute_result"
    }
   ],
   "source": [
    "test_merged.nunique()"
   ]
  },
  {
   "cell_type": "code",
   "execution_count": 50,
   "metadata": {},
   "outputs": [
    {
     "data": {
      "text/plain": [
       "Store                            0\n",
       "DayOfWeek                        0\n",
       "Date                             0\n",
       "Sales                        41088\n",
       "Customers                    41088\n",
       "Open                            11\n",
       "Promo                            0\n",
       "StateHoliday                     0\n",
       "SchoolHoliday                    0\n",
       "Season                           0\n",
       "StoreType                        0\n",
       "Assortment                       0\n",
       "CompetitionDistance              0\n",
       "CompetitionOpenSinceMonth        0\n",
       "CompetitionOpenSinceYear         0\n",
       "Promo2                           0\n",
       "Promo2SinceWeek                  0\n",
       "Promo2SinceYear                  0\n",
       "PromoInterval                    0\n",
       "competition_duration             0\n",
       "promo_years                      0\n",
       "dtype: int64"
      ]
     },
     "execution_count": 50,
     "metadata": {},
     "output_type": "execute_result"
    }
   ],
   "source": [
    "test_merged.isnull().sum()"
   ]
  },
  {
   "cell_type": "code",
   "execution_count": 51,
   "metadata": {},
   "outputs": [
    {
     "data": {
      "text/plain": [
       "Store                          0.000000\n",
       "DayOfWeek                      0.000000\n",
       "Date                           0.000000\n",
       "Sales                        100.000000\n",
       "Customers                    100.000000\n",
       "Open                           0.026772\n",
       "Promo                          0.000000\n",
       "StateHoliday                   0.000000\n",
       "SchoolHoliday                  0.000000\n",
       "Season                         0.000000\n",
       "StoreType                      0.000000\n",
       "Assortment                     0.000000\n",
       "CompetitionDistance            0.000000\n",
       "CompetitionOpenSinceMonth      0.000000\n",
       "CompetitionOpenSinceYear       0.000000\n",
       "Promo2                         0.000000\n",
       "Promo2SinceWeek                0.000000\n",
       "Promo2SinceYear                0.000000\n",
       "PromoInterval                  0.000000\n",
       "competition_duration           0.000000\n",
       "promo_years                    0.000000\n",
       "dtype: float64"
      ]
     },
     "execution_count": 51,
     "metadata": {},
     "output_type": "execute_result"
    }
   ],
   "source": [
    "test_merged.isnull().mean()*100"
   ]
  },
  {
   "cell_type": "markdown",
   "metadata": {},
   "source": [
    "# Correlation Heatmap\n",
    "\n",
    "Promo and Sales(0.37): Promotions have a noticeable positive impact. This feature is critical for capturing the effect of marketing campaigns on sales.\n",
    "\n",
    "DayOfWeek and Sales(-0.18): Including this feature will help the model account for day-specific fluctuations in sales, which is crucial for forecasting.\n",
    "\n",
    "Promo(0.37) and DayOfWeek(-0.18) have the strongest correlations with sales, making them essential for capturing promotional and temporal trends. \n",
    " \n",
    "While individual correlations of Features like  Assortment and StoreType with sales are weak, their combined effects can enhance model performance by accounting for external and store-specific factors.\n"
   ]
  },
  {
   "cell_type": "code",
   "execution_count": 52,
   "metadata": {},
   "outputs": [
    {
     "data": {
      "image/png": "[encoded data removed]",
      "text/plain": [
       "<Figure size 864x576 with 2 Axes>"
      ]
     },
     "metadata": {
      "needs_background": "light"
     },
     "output_type": "display_data"
    }
   ],
   "source": [
    "\n",
    "# Drop 'PromoInterval' from the dataset before calculating the correlation matrix\n",
    "columns_to_exclude = ['PromoInterval', 'Promo2SinceWeek', 'Promo2SinceYear', 'CompetitionOpenSinceMonth', 'CompetitionOpenSinceYear', 'Open']\n",
    "numerical_columns = train_merged.drop(columns=columns_to_exclude).select_dtypes(include=['number'])\n",
    "\n",
    "# Calculate the correlation matrix\n",
    "correlation_matrix = numerical_columns.corr()\n",
    "\n",
    "# Set up the matplotlib figure\n",
    "plt.figure(figsize=(12, 8))\n",
    "\n",
    "# Create the heatmap\n",
    "sns.heatmap(\n",
    "    correlation_matrix,\n",
    "    annot=True,  # Display correlation values\n",
    "    fmt='.2f',   # Format for correlation values\n",
    "    cmap='BrBG',  # Color scheme\n",
    "    vmin=-1, vmax=1,  # Correlation range\n",
    "    cbar_kws={'label': 'Correlation Coefficient'}  # Colorbar label\n",
    ")\n",
    "\n",
    "# Add a title\n",
    "plt.title('Correlation Heatmap of train_merged Dataset', fontsize=16)\n",
    "\n",
    "# Show the plot\n",
    "plt.show()\n"
   ]
  },
  {
   "cell_type": "markdown",
   "metadata": {},
   "source": [
    "**Store being closed (open=0) will have no impact on sales. Hence those rows were dropped**"
   ]
  },
  {
   "cell_type": "code",
   "execution_count": 53,
   "metadata": {},
   "outputs": [
    {
     "name": "stderr",
     "output_type": "stream",
     "text": [
      "<ipython-input-53-f58e4b87cbae>:12: FutureWarning: \n",
      "\n",
      "Passing `palette` without assigning `hue` is deprecated and will be removed in v0.14.0. Assign the `x` variable to `hue` and set `legend=False` for the same effect.\n",
      "\n",
      "  sns.barplot(x=categories, y=counts, palette='viridis')\n"
     ]
    },
    {
     "data": {
      "image/png": "[encoded data removed]",
      "text/plain": [
       "<Figure size 576x360 with 1 Axes>"
      ]
     },
     "metadata": {
      "needs_background": "light"
     },
     "output_type": "display_data"
    }
   ],
   "source": [
    "# Manually count values\n",
    "open_count = test_merged['Open'].eq(1).sum()  # Count where Open = 1\n",
    "closed_count = test_merged['Open'].eq(0).sum()  # Count where Open = 0\n",
    "null_count = test_merged['Open'].isna().sum()  # Count where Open is NaN\n",
    "\n",
    "# Data for the bar chart\n",
    "categories = ['Open', 'Closed', 'Null']\n",
    "counts = [open_count, closed_count, null_count]\n",
    "\n",
    "# Plot the data\n",
    "plt.figure(figsize=(8, 5))\n",
    "sns.barplot(x=categories, y=counts, palette='viridis')\n",
    "\n",
    "# Add labels and title\n",
    "plt.title(\"Distribution of Store Open Status (Open, Closed, Null)\", fontsize=14)\n",
    "plt.xlabel(\"Status\", fontsize=12)\n",
    "plt.ylabel(\"Number of Rows\", fontsize=12)\n",
    "\n",
    "# Annotate bar chart with counts\n",
    "for i, value in enumerate(counts):\n",
    "    plt.text(i, value + 100, f\"{value}\", ha='center', fontsize=10)\n",
    "\n",
    "# Show the plot\n",
    "plt.show()\n"
   ]
  },
  {
   "cell_type": "code",
   "execution_count": 54,
   "metadata": {},
   "outputs": [
    {
     "name": "stdout",
     "output_type": "stream",
     "text": [
      "Number of rows after dropping null values: 41077\n"
     ]
    }
   ],
   "source": [
    "# Drop rows where 'Open' is null\n",
    "test_merged = test_merged.dropna(subset=['Open'])\n",
    "\n",
    "# Reset the index after dropping rows (optional)\n",
    "test_merged.reset_index(drop=True, inplace=True)\n",
    "\n",
    "# Check the number of rows after dropping\n",
    "print(f\"Number of rows after dropping null values: {test_merged.shape[0]}\")\n"
   ]
  },
  {
   "cell_type": "code",
   "execution_count": 55,
   "metadata": {},
   "outputs": [
    {
     "name": "stdout",
     "output_type": "stream",
     "text": [
      "Number of rows after dropping 'Open = 0': 35093\n"
     ]
    }
   ],
   "source": [
    "# Drop rows where 'Open' is 0\n",
    "test_merged = test_merged[test_merged['Open'] != 0]\n",
    "\n",
    "# Reset the index after dropping rows (optional)\n",
    "test_merged.reset_index(drop=True, inplace=True)\n",
    "\n",
    "# Check the number of rows after dropping\n",
    "print(f\"Number of rows after dropping 'Open = 0': {test_merged.shape[0]}\")\n"
   ]
  },
  {
   "cell_type": "code",
   "execution_count": 56,
   "metadata": {},
   "outputs": [
    {
     "name": "stdout",
     "output_type": "stream",
     "text": [
      "<class 'pandas.core.frame.DataFrame'>\n",
      "RangeIndex: 35093 entries, 0 to 35092\n",
      "Data columns (total 21 columns):\n",
      " #   Column                     Non-Null Count  Dtype         \n",
      "---  ------                     --------------  -----         \n",
      " 0   Store                      35093 non-null  int64         \n",
      " 1   DayOfWeek                  35093 non-null  int64         \n",
      " 2   Date                       35093 non-null  datetime64[ns]\n",
      " 3   Sales                      0 non-null      float64       \n",
      " 4   Customers                  0 non-null      float64       \n",
      " 5   Open                       35093 non-null  float64       \n",
      " 6   Promo                      35093 non-null  int64         \n",
      " 7   StateHoliday               35093 non-null  object        \n",
      " 8   SchoolHoliday              35093 non-null  int64         \n",
      " 9   Season                     35093 non-null  int64         \n",
      " 10  StoreType                  35093 non-null  int64         \n",
      " 11  Assortment                 35093 non-null  int64         \n",
      " 12  CompetitionDistance        35093 non-null  float64       \n",
      " 13  CompetitionOpenSinceMonth  35093 non-null  float64       \n",
      " 14  CompetitionOpenSinceYear   35093 non-null  float64       \n",
      " 15  Promo2                     35093 non-null  int64         \n",
      " 16  Promo2SinceWeek            35093 non-null  float64       \n",
      " 17  Promo2SinceYear            35093 non-null  float64       \n",
      " 18  PromoInterval              35093 non-null  object        \n",
      " 19  competition_duration       35093 non-null  int64         \n",
      " 20  promo_years                35093 non-null  int64         \n",
      "dtypes: datetime64[ns](1), float64(8), int64(10), object(2)\n",
      "memory usage: 5.6+ MB\n"
     ]
    }
   ],
   "source": [
    "test_merged.info()"
   ]
  },
  {
   "cell_type": "code",
   "execution_count": 57,
   "metadata": {},
   "outputs": [
    {
     "data": {
      "text/html": [
       "<div>\n",
       "<style scoped>\n",
       "    .dataframe tbody tr th:only-of-type {\n",
       "        vertical-align: middle;\n",
       "    }\n",
       "\n",
       "    .dataframe tbody tr th {\n",
       "        vertical-align: top;\n",
       "    }\n",
       "\n",
       "    .dataframe thead th {\n",
       "        text-align: right;\n",
       "    }\n",
       "</style>\n",
       "<table border=\"1\" class=\"dataframe\">\n",
       "  <thead>\n",
       "    <tr style=\"text-align: right;\">\n",
       "      <th></th>\n",
       "      <th>Store</th>\n",
       "      <th>DayOfWeek</th>\n",
       "      <th>Date</th>\n",
       "      <th>Sales</th>\n",
       "      <th>Customers</th>\n",
       "      <th>Open</th>\n",
       "      <th>Promo</th>\n",
       "      <th>StateHoliday</th>\n",
       "      <th>SchoolHoliday</th>\n",
       "      <th>Season</th>\n",
       "      <th>...</th>\n",
       "      <th>Assortment</th>\n",
       "      <th>CompetitionDistance</th>\n",
       "      <th>CompetitionOpenSinceMonth</th>\n",
       "      <th>CompetitionOpenSinceYear</th>\n",
       "      <th>Promo2</th>\n",
       "      <th>Promo2SinceWeek</th>\n",
       "      <th>Promo2SinceYear</th>\n",
       "      <th>PromoInterval</th>\n",
       "      <th>competition_duration</th>\n",
       "      <th>promo_years</th>\n",
       "    </tr>\n",
       "  </thead>\n",
       "  <tbody>\n",
       "    <tr>\n",
       "      <th>0</th>\n",
       "      <td>1</td>\n",
       "      <td>4</td>\n",
       "      <td>2015-09-17</td>\n",
       "      <td>NaN</td>\n",
       "      <td>NaN</td>\n",
       "      <td>1.0</td>\n",
       "      <td>1</td>\n",
       "      <td>0</td>\n",
       "      <td>0</td>\n",
       "      <td>4</td>\n",
       "      <td>...</td>\n",
       "      <td>1</td>\n",
       "      <td>1270.0</td>\n",
       "      <td>9.0</td>\n",
       "      <td>2008.0</td>\n",
       "      <td>0</td>\n",
       "      <td>0.0</td>\n",
       "      <td>0.0</td>\n",
       "      <td>0</td>\n",
       "      <td>198</td>\n",
       "      <td>0</td>\n",
       "    </tr>\n",
       "    <tr>\n",
       "      <th>1</th>\n",
       "      <td>3</td>\n",
       "      <td>4</td>\n",
       "      <td>2015-09-17</td>\n",
       "      <td>NaN</td>\n",
       "      <td>NaN</td>\n",
       "      <td>1.0</td>\n",
       "      <td>1</td>\n",
       "      <td>0</td>\n",
       "      <td>0</td>\n",
       "      <td>4</td>\n",
       "      <td>...</td>\n",
       "      <td>1</td>\n",
       "      <td>14130.0</td>\n",
       "      <td>12.0</td>\n",
       "      <td>2006.0</td>\n",
       "      <td>1</td>\n",
       "      <td>14.0</td>\n",
       "      <td>2011.0</td>\n",
       "      <td>Jan,Apr,Jul,Oct</td>\n",
       "      <td>220</td>\n",
       "      <td>13</td>\n",
       "    </tr>\n",
       "    <tr>\n",
       "      <th>2</th>\n",
       "      <td>7</td>\n",
       "      <td>4</td>\n",
       "      <td>2015-09-17</td>\n",
       "      <td>NaN</td>\n",
       "      <td>NaN</td>\n",
       "      <td>1.0</td>\n",
       "      <td>1</td>\n",
       "      <td>0</td>\n",
       "      <td>0</td>\n",
       "      <td>4</td>\n",
       "      <td>...</td>\n",
       "      <td>3</td>\n",
       "      <td>24000.0</td>\n",
       "      <td>4.0</td>\n",
       "      <td>2013.0</td>\n",
       "      <td>0</td>\n",
       "      <td>0.0</td>\n",
       "      <td>0.0</td>\n",
       "      <td>0</td>\n",
       "      <td>143</td>\n",
       "      <td>0</td>\n",
       "    </tr>\n",
       "    <tr>\n",
       "      <th>3</th>\n",
       "      <td>8</td>\n",
       "      <td>4</td>\n",
       "      <td>2015-09-17</td>\n",
       "      <td>NaN</td>\n",
       "      <td>NaN</td>\n",
       "      <td>1.0</td>\n",
       "      <td>1</td>\n",
       "      <td>0</td>\n",
       "      <td>0</td>\n",
       "      <td>4</td>\n",
       "      <td>...</td>\n",
       "      <td>1</td>\n",
       "      <td>7520.0</td>\n",
       "      <td>10.0</td>\n",
       "      <td>2014.0</td>\n",
       "      <td>0</td>\n",
       "      <td>0.0</td>\n",
       "      <td>0.0</td>\n",
       "      <td>0</td>\n",
       "      <td>124</td>\n",
       "      <td>0</td>\n",
       "    </tr>\n",
       "    <tr>\n",
       "      <th>4</th>\n",
       "      <td>9</td>\n",
       "      <td>4</td>\n",
       "      <td>2015-09-17</td>\n",
       "      <td>NaN</td>\n",
       "      <td>NaN</td>\n",
       "      <td>1.0</td>\n",
       "      <td>1</td>\n",
       "      <td>0</td>\n",
       "      <td>0</td>\n",
       "      <td>4</td>\n",
       "      <td>...</td>\n",
       "      <td>3</td>\n",
       "      <td>2030.0</td>\n",
       "      <td>8.0</td>\n",
       "      <td>2000.0</td>\n",
       "      <td>0</td>\n",
       "      <td>0.0</td>\n",
       "      <td>0.0</td>\n",
       "      <td>0</td>\n",
       "      <td>297</td>\n",
       "      <td>0</td>\n",
       "    </tr>\n",
       "  </tbody>\n",
       "</table>\n",
       "<p>5 rows × 21 columns</p>\n",
       "</div>"
      ],
      "text/plain": [
       "   Store  DayOfWeek       Date  Sales  Customers  Open  Promo StateHoliday  \\\n",
       "0      1          4 2015-09-17    NaN        NaN   1.0      1            0   \n",
       "1      3          4 2015-09-17    NaN        NaN   1.0      1            0   \n",
       "2      7          4 2015-09-17    NaN        NaN   1.0      1            0   \n",
       "3      8          4 2015-09-17    NaN        NaN   1.0      1            0   \n",
       "4      9          4 2015-09-17    NaN        NaN   1.0      1            0   \n",
       "\n",
       "   SchoolHoliday  Season  ...  Assortment  CompetitionDistance  \\\n",
       "0              0       4  ...           1               1270.0   \n",
       "1              0       4  ...           1              14130.0   \n",
       "2              0       4  ...           3              24000.0   \n",
       "3              0       4  ...           1               7520.0   \n",
       "4              0       4  ...           3               2030.0   \n",
       "\n",
       "   CompetitionOpenSinceMonth  CompetitionOpenSinceYear  Promo2  \\\n",
       "0                        9.0                    2008.0       0   \n",
       "1                       12.0                    2006.0       1   \n",
       "2                        4.0                    2013.0       0   \n",
       "3                       10.0                    2014.0       0   \n",
       "4                        8.0                    2000.0       0   \n",
       "\n",
       "   Promo2SinceWeek  Promo2SinceYear    PromoInterval competition_duration  \\\n",
       "0              0.0              0.0                0                  198   \n",
       "1             14.0           2011.0  Jan,Apr,Jul,Oct                  220   \n",
       "2              0.0              0.0                0                  143   \n",
       "3              0.0              0.0                0                  124   \n",
       "4              0.0              0.0                0                  297   \n",
       "\n",
       "   promo_years  \n",
       "0            0  \n",
       "1           13  \n",
       "2            0  \n",
       "3            0  \n",
       "4            0  \n",
       "\n",
       "[5 rows x 21 columns]"
      ]
     },
     "execution_count": 57,
     "metadata": {},
     "output_type": "execute_result"
    }
   ],
   "source": [
    "test_merged.head()"
   ]
  },
  {
   "cell_type": "markdown",
   "metadata": {},
   "source": [
    "**Mapping the fields**"
   ]
  },
  {
   "cell_type": "code",
   "execution_count": 58,
   "metadata": {},
   "outputs": [
    {
     "name": "stdout",
     "output_type": "stream",
     "text": [
      "['0' 1]\n"
     ]
    }
   ],
   "source": [
    "# Replace 'a' with 1 in the 'StateHoliday' column\n",
    "test_merged['StateHoliday'] = test_merged['StateHoliday'].replace({'a': 1})\n",
    "\n",
    "# Verify the transformation\n",
    "print(test_merged['StateHoliday'].unique())\n"
   ]
  },
  {
   "cell_type": "code",
   "execution_count": 59,
   "metadata": {},
   "outputs": [
    {
     "name": "stdout",
     "output_type": "stream",
     "text": [
      "[0 1]\n"
     ]
    }
   ],
   "source": [
    "# Ensure the column is numeric\n",
    "test_merged['StateHoliday'] = test_merged['StateHoliday'].astype(float).fillna(0).astype(int)\n",
    "\n",
    "# Verify the transformation\n",
    "print(test_merged['StateHoliday'].unique())\n"
   ]
  },
  {
   "cell_type": "code",
   "execution_count": 60,
   "metadata": {},
   "outputs": [
    {
     "data": {
      "text/plain": [
       "Store                         1115\n",
       "DayOfWeek                        7\n",
       "Date                           942\n",
       "Sales                        21734\n",
       "Customers                     4086\n",
       "Open                             1\n",
       "Promo                            2\n",
       "StateHoliday                     4\n",
       "SchoolHoliday                    2\n",
       "Season                           4\n",
       "StoreType                        4\n",
       "Assortment                       3\n",
       "CompetitionDistance            655\n",
       "CompetitionOpenSinceMonth       12\n",
       "CompetitionOpenSinceYear        23\n",
       "Promo2                           2\n",
       "Promo2SinceWeek                 25\n",
       "Promo2SinceYear                  8\n",
       "PromoInterval                    4\n",
       "competition_duration           170\n",
       "promo_years                      8\n",
       "dtype: int64"
      ]
     },
     "execution_count": 60,
     "metadata": {},
     "output_type": "execute_result"
    }
   ],
   "source": [
    "train_merged.nunique()"
   ]
  },
  {
   "cell_type": "code",
   "execution_count": 61,
   "metadata": {},
   "outputs": [
    {
     "data": {
      "text/plain": [
       "Store                        856\n",
       "DayOfWeek                      7\n",
       "Date                          48\n",
       "Sales                          0\n",
       "Customers                      0\n",
       "Open                           1\n",
       "Promo                          2\n",
       "StateHoliday                   2\n",
       "SchoolHoliday                  2\n",
       "Season                         2\n",
       "StoreType                      4\n",
       "Assortment                     3\n",
       "CompetitionDistance          555\n",
       "CompetitionOpenSinceMonth     12\n",
       "CompetitionOpenSinceYear      23\n",
       "Promo2                         2\n",
       "Promo2SinceWeek               22\n",
       "Promo2SinceYear                8\n",
       "PromoInterval                  4\n",
       "competition_duration         159\n",
       "promo_years                    8\n",
       "dtype: int64"
      ]
     },
     "execution_count": 61,
     "metadata": {},
     "output_type": "execute_result"
    }
   ],
   "source": [
    "test_merged.nunique()"
   ]
  },
  {
   "cell_type": "markdown",
   "metadata": {},
   "source": [
    "# Time To Predict Future\n",
    "\n",
    "The model decided for the prediction is Random Forest Regressor as it can handle both numerical and categorical data without requiring extensive preprocessing. It is effective at dealing with outliers compared to linear or logistic Regression since it builds multiple tree splits rather than fitting exact data points which minimizes the effect of outliers.\n",
    "\n",
    "One of the key challenges in the analysis was the absence of customer data in the test dataset, despite customers being the most influential predictor of sales, as shown in the heatmap. However, since the test dataset represents future data, customer information was not available in advance.\n",
    "This limitation meant the model could not directly leverage this crucial feature for sales predictions. \n",
    "To address this, a two-step approach was used - first predicting customers and then using the predicted values as a feature to forecast sales. "
   ]
  },
  {
   "cell_type": "code",
   "execution_count": 62,
   "metadata": {},
   "outputs": [
    {
     "data": {
      "text/html": [
       "<style>#sk-container-id-1 {\n",
       "  /* Definition of color scheme common for light and dark mode */\n",
       "  --sklearn-color-text: #000;\n",
       "  --sklearn-color-text-muted: #666;\n",
       "  --sklearn-color-line: gray;\n",
       "  /* Definition of color scheme for unfitted estimators */\n",
       "  --sklearn-color-unfitted-level-0: #fff5e6;\n",
       "  --sklearn-color-unfitted-level-1: #f6e4d2;\n",
       "  --sklearn-color-unfitted-level-2: #ffe0b3;\n",
       "  --sklearn-color-unfitted-level-3: chocolate;\n",
       "  /* Definition of color scheme for fitted estimators */\n",
       "  --sklearn-color-fitted-level-0: #f0f8ff;\n",
       "  --sklearn-color-fitted-level-1: #d4ebff;\n",
       "  --sklearn-color-fitted-level-2: #b3dbfd;\n",
       "  --sklearn-color-fitted-level-3: cornflowerblue;\n",
       "\n",
       "  /* Specific color for light theme */\n",
       "  --sklearn-color-text-on-default-background: var(--sg-text-color, var(--theme-code-foreground, var(--jp-content-font-color1, black)));\n",
       "  --sklearn-color-background: var(--sg-background-color, var(--theme-background, var(--jp-layout-color0, white)));\n",
       "  --sklearn-color-border-box: var(--sg-text-color, var(--theme-code-foreground, var(--jp-content-font-color1, black)));\n",
       "  --sklearn-color-icon: #696969;\n",
       "\n",
       "  @media (prefers-color-scheme: dark) {\n",
       "    /* Redefinition of color scheme for dark theme */\n",
       "    --sklearn-color-text-on-default-background: var(--sg-text-color, var(--theme-code-foreground, var(--jp-content-font-color1, white)));\n",
       "    --sklearn-color-background: var(--sg-background-color, var(--theme-background, var(--jp-layout-color0, #111)));\n",
       "    --sklearn-color-border-box: var(--sg-text-color, var(--theme-code-foreground, var(--jp-content-font-color1, white)));\n",
       "    --sklearn-color-icon: #878787;\n",
       "  }\n",
       "}\n",
       "\n",
       "#sk-container-id-1 {\n",
       "  color: var(--sklearn-color-text);\n",
       "}\n",
       "\n",
       "#sk-container-id-1 pre {\n",
       "  padding: 0;\n",
       "}\n",
       "\n",
       "#sk-container-id-1 input.sk-hidden--visually {\n",
       "  border: 0;\n",
       "  clip: rect(1px 1px 1px 1px);\n",
       "  clip: rect(1px, 1px, 1px, 1px);\n",
       "  height: 1px;\n",
       "  margin: -1px;\n",
       "  overflow: hidden;\n",
       "  padding: 0;\n",
       "  position: absolute;\n",
       "  width: 1px;\n",
       "}\n",
       "\n",
       "#sk-container-id-1 div.sk-dashed-wrapped {\n",
       "  border: 1px dashed var(--sklearn-color-line);\n",
       "  margin: 0 0.4em 0.5em 0.4em;\n",
       "  box-sizing: border-box;\n",
       "  padding-bottom: 0.4em;\n",
       "  background-color: var(--sklearn-color-background);\n",
       "}\n",
       "\n",
       "#sk-container-id-1 div.sk-container {\n",
       "  /* jupyter's `normalize.less` sets `[hidden] { display: none; }`\n",
       "     but bootstrap.min.css set `[hidden] { display: none !important; }`\n",
       "     so we also need the `!important` here to be able to override the\n",
       "     default hidden behavior on the sphinx rendered scikit-learn.org.\n",
       "     See: https://github.com/scikit-learn/scikit-learn/issues/21755 */\n",
       "  display: inline-block !important;\n",
       "  position: relative;\n",
       "}\n",
       "\n",
       "#sk-container-id-1 div.sk-text-repr-fallback {\n",
       "  display: none;\n",
       "}\n",
       "\n",
       "div.sk-parallel-item,\n",
       "div.sk-serial,\n",
       "div.sk-item {\n",
       "  /* draw centered vertical line to link estimators */\n",
       "  background-image: linear-gradient(var(--sklearn-color-text-on-default-background), var(--sklearn-color-text-on-default-background));\n",
       "  background-size: 2px 100%;\n",
       "  background-repeat: no-repeat;\n",
       "  background-position: center center;\n",
       "}\n",
       "\n",
       "/* Parallel-specific style estimator block */\n",
       "\n",
       "#sk-container-id-1 div.sk-parallel-item::after {\n",
       "  content: \"\";\n",
       "  width: 100%;\n",
       "  border-bottom: 2px solid var(--sklearn-color-text-on-default-background);\n",
       "  flex-grow: 1;\n",
       "}\n",
       "\n",
       "#sk-container-id-1 div.sk-parallel {\n",
       "  display: flex;\n",
       "  align-items: stretch;\n",
       "  justify-content: center;\n",
       "  background-color: var(--sklearn-color-background);\n",
       "  position: relative;\n",
       "}\n",
       "\n",
       "#sk-container-id-1 div.sk-parallel-item {\n",
       "  display: flex;\n",
       "  flex-direction: column;\n",
       "}\n",
       "\n",
       "#sk-container-id-1 div.sk-parallel-item:first-child::after {\n",
       "  align-self: flex-end;\n",
       "  width: 50%;\n",
       "}\n",
       "\n",
       "#sk-container-id-1 div.sk-parallel-item:last-child::after {\n",
       "  align-self: flex-start;\n",
       "  width: 50%;\n",
       "}\n",
       "\n",
       "#sk-container-id-1 div.sk-parallel-item:only-child::after {\n",
       "  width: 0;\n",
       "}\n",
       "\n",
       "/* Serial-specific style estimator block */\n",
       "\n",
       "#sk-container-id-1 div.sk-serial {\n",
       "  display: flex;\n",
       "  flex-direction: column;\n",
       "  align-items: center;\n",
       "  background-color: var(--sklearn-color-background);\n",
       "  padding-right: 1em;\n",
       "  padding-left: 1em;\n",
       "}\n",
       "\n",
       "\n",
       "/* Toggleable style: style used for estimator/Pipeline/ColumnTransformer box that is\n",
       "clickable and can be expanded/collapsed.\n",
       "- Pipeline and ColumnTransformer use this feature and define the default style\n",
       "- Estimators will overwrite some part of the style using the `sk-estimator` class\n",
       "*/\n",
       "\n",
       "/* Pipeline and ColumnTransformer style (default) */\n",
       "\n",
       "#sk-container-id-1 div.sk-toggleable {\n",
       "  /* Default theme specific background. It is overwritten whether we have a\n",
       "  specific estimator or a Pipeline/ColumnTransformer */\n",
       "  background-color: var(--sklearn-color-background);\n",
       "}\n",
       "\n",
       "/* Toggleable label */\n",
       "#sk-container-id-1 label.sk-toggleable__label {\n",
       "  cursor: pointer;\n",
       "  display: flex;\n",
       "  width: 100%;\n",
       "  margin-bottom: 0;\n",
       "  padding: 0.5em;\n",
       "  box-sizing: border-box;\n",
       "  text-align: center;\n",
       "  align-items: start;\n",
       "  justify-content: space-between;\n",
       "  gap: 0.5em;\n",
       "}\n",
       "\n",
       "#sk-container-id-1 label.sk-toggleable__label .caption {\n",
       "  font-size: 0.6rem;\n",
       "  font-weight: lighter;\n",
       "  color: var(--sklearn-color-text-muted);\n",
       "}\n",
       "\n",
       "#sk-container-id-1 label.sk-toggleable__label-arrow:before {\n",
       "  /* Arrow on the left of the label */\n",
       "  content: \"▸\";\n",
       "  float: left;\n",
       "  margin-right: 0.25em;\n",
       "  color: var(--sklearn-color-icon);\n",
       "}\n",
       "\n",
       "#sk-container-id-1 label.sk-toggleable__label-arrow:hover:before {\n",
       "  color: var(--sklearn-color-text);\n",
       "}\n",
       "\n",
       "/* Toggleable content - dropdown */\n",
       "\n",
       "#sk-container-id-1 div.sk-toggleable__content {\n",
       "  max-height: 0;\n",
       "  max-width: 0;\n",
       "  overflow: hidden;\n",
       "  text-align: left;\n",
       "  /* unfitted */\n",
       "  background-color: var(--sklearn-color-unfitted-level-0);\n",
       "}\n",
       "\n",
       "#sk-container-id-1 div.sk-toggleable__content.fitted {\n",
       "  /* fitted */\n",
       "  background-color: var(--sklearn-color-fitted-level-0);\n",
       "}\n",
       "\n",
       "#sk-container-id-1 div.sk-toggleable__content pre {\n",
       "  margin: 0.2em;\n",
       "  border-radius: 0.25em;\n",
       "  color: var(--sklearn-color-text);\n",
       "  /* unfitted */\n",
       "  background-color: var(--sklearn-color-unfitted-level-0);\n",
       "}\n",
       "\n",
       "#sk-container-id-1 div.sk-toggleable__content.fitted pre {\n",
       "  /* unfitted */\n",
       "  background-color: var(--sklearn-color-fitted-level-0);\n",
       "}\n",
       "\n",
       "#sk-container-id-1 input.sk-toggleable__control:checked~div.sk-toggleable__content {\n",
       "  /* Expand drop-down */\n",
       "  max-height: 200px;\n",
       "  max-width: 100%;\n",
       "  overflow: auto;\n",
       "}\n",
       "\n",
       "#sk-container-id-1 input.sk-toggleable__control:checked~label.sk-toggleable__label-arrow:before {\n",
       "  content: \"▾\";\n",
       "}\n",
       "\n",
       "/* Pipeline/ColumnTransformer-specific style */\n",
       "\n",
       "#sk-container-id-1 div.sk-label input.sk-toggleable__control:checked~label.sk-toggleable__label {\n",
       "  color: var(--sklearn-color-text);\n",
       "  background-color: var(--sklearn-color-unfitted-level-2);\n",
       "}\n",
       "\n",
       "#sk-container-id-1 div.sk-label.fitted input.sk-toggleable__control:checked~label.sk-toggleable__label {\n",
       "  background-color: var(--sklearn-color-fitted-level-2);\n",
       "}\n",
       "\n",
       "/* Estimator-specific style */\n",
       "\n",
       "/* Colorize estimator box */\n",
       "#sk-container-id-1 div.sk-estimator input.sk-toggleable__control:checked~label.sk-toggleable__label {\n",
       "  /* unfitted */\n",
       "  background-color: var(--sklearn-color-unfitted-level-2);\n",
       "}\n",
       "\n",
       "#sk-container-id-1 div.sk-estimator.fitted input.sk-toggleable__control:checked~label.sk-toggleable__label {\n",
       "  /* fitted */\n",
       "  background-color: var(--sklearn-color-fitted-level-2);\n",
       "}\n",
       "\n",
       "#sk-container-id-1 div.sk-label label.sk-toggleable__label,\n",
       "#sk-container-id-1 div.sk-label label {\n",
       "  /* The background is the default theme color */\n",
       "  color: var(--sklearn-color-text-on-default-background);\n",
       "}\n",
       "\n",
       "/* On hover, darken the color of the background */\n",
       "#sk-container-id-1 div.sk-label:hover label.sk-toggleable__label {\n",
       "  color: var(--sklearn-color-text);\n",
       "  background-color: var(--sklearn-color-unfitted-level-2);\n",
       "}\n",
       "\n",
       "/* Label box, darken color on hover, fitted */\n",
       "#sk-container-id-1 div.sk-label.fitted:hover label.sk-toggleable__label.fitted {\n",
       "  color: var(--sklearn-color-text);\n",
       "  background-color: var(--sklearn-color-fitted-level-2);\n",
       "}\n",
       "\n",
       "/* Estimator label */\n",
       "\n",
       "#sk-container-id-1 div.sk-label label {\n",
       "  font-family: monospace;\n",
       "  font-weight: bold;\n",
       "  display: inline-block;\n",
       "  line-height: 1.2em;\n",
       "}\n",
       "\n",
       "#sk-container-id-1 div.sk-label-container {\n",
       "  text-align: center;\n",
       "}\n",
       "\n",
       "/* Estimator-specific */\n",
       "#sk-container-id-1 div.sk-estimator {\n",
       "  font-family: monospace;\n",
       "  border: 1px dotted var(--sklearn-color-border-box);\n",
       "  border-radius: 0.25em;\n",
       "  box-sizing: border-box;\n",
       "  margin-bottom: 0.5em;\n",
       "  /* unfitted */\n",
       "  background-color: var(--sklearn-color-unfitted-level-0);\n",
       "}\n",
       "\n",
       "#sk-container-id-1 div.sk-estimator.fitted {\n",
       "  /* fitted */\n",
       "  background-color: var(--sklearn-color-fitted-level-0);\n",
       "}\n",
       "\n",
       "/* on hover */\n",
       "#sk-container-id-1 div.sk-estimator:hover {\n",
       "  /* unfitted */\n",
       "  background-color: var(--sklearn-color-unfitted-level-2);\n",
       "}\n",
       "\n",
       "#sk-container-id-1 div.sk-estimator.fitted:hover {\n",
       "  /* fitted */\n",
       "  background-color: var(--sklearn-color-fitted-level-2);\n",
       "}\n",
       "\n",
       "/* Specification for estimator info (e.g. \"i\" and \"?\") */\n",
       "\n",
       "/* Common style for \"i\" and \"?\" */\n",
       "\n",
       ".sk-estimator-doc-link,\n",
       "a:link.sk-estimator-doc-link,\n",
       "a:visited.sk-estimator-doc-link {\n",
       "  float: right;\n",
       "  font-size: smaller;\n",
       "  line-height: 1em;\n",
       "  font-family: monospace;\n",
       "  background-color: var(--sklearn-color-background);\n",
       "  border-radius: 1em;\n",
       "  height: 1em;\n",
       "  width: 1em;\n",
       "  text-decoration: none !important;\n",
       "  margin-left: 0.5em;\n",
       "  text-align: center;\n",
       "  /* unfitted */\n",
       "  border: var(--sklearn-color-unfitted-level-1) 1pt solid;\n",
       "  color: var(--sklearn-color-unfitted-level-1);\n",
       "}\n",
       "\n",
       ".sk-estimator-doc-link.fitted,\n",
       "a:link.sk-estimator-doc-link.fitted,\n",
       "a:visited.sk-estimator-doc-link.fitted {\n",
       "  /* fitted */\n",
       "  border: var(--sklearn-color-fitted-level-1) 1pt solid;\n",
       "  color: var(--sklearn-color-fitted-level-1);\n",
       "}\n",
       "\n",
       "/* On hover */\n",
       "div.sk-estimator:hover .sk-estimator-doc-link:hover,\n",
       ".sk-estimator-doc-link:hover,\n",
       "div.sk-label-container:hover .sk-estimator-doc-link:hover,\n",
       ".sk-estimator-doc-link:hover {\n",
       "  /* unfitted */\n",
       "  background-color: var(--sklearn-color-unfitted-level-3);\n",
       "  color: var(--sklearn-color-background);\n",
       "  text-decoration: none;\n",
       "}\n",
       "\n",
       "div.sk-estimator.fitted:hover .sk-estimator-doc-link.fitted:hover,\n",
       ".sk-estimator-doc-link.fitted:hover,\n",
       "div.sk-label-container:hover .sk-estimator-doc-link.fitted:hover,\n",
       ".sk-estimator-doc-link.fitted:hover {\n",
       "  /* fitted */\n",
       "  background-color: var(--sklearn-color-fitted-level-3);\n",
       "  color: var(--sklearn-color-background);\n",
       "  text-decoration: none;\n",
       "}\n",
       "\n",
       "/* Span, style for the box shown on hovering the info icon */\n",
       ".sk-estimator-doc-link span {\n",
       "  display: none;\n",
       "  z-index: 9999;\n",
       "  position: relative;\n",
       "  font-weight: normal;\n",
       "  right: .2ex;\n",
       "  padding: .5ex;\n",
       "  margin: .5ex;\n",
       "  width: min-content;\n",
       "  min-width: 20ex;\n",
       "  max-width: 50ex;\n",
       "  color: var(--sklearn-color-text);\n",
       "  box-shadow: 2pt 2pt 4pt #999;\n",
       "  /* unfitted */\n",
       "  background: var(--sklearn-color-unfitted-level-0);\n",
       "  border: .5pt solid var(--sklearn-color-unfitted-level-3);\n",
       "}\n",
       "\n",
       ".sk-estimator-doc-link.fitted span {\n",
       "  /* fitted */\n",
       "  background: var(--sklearn-color-fitted-level-0);\n",
       "  border: var(--sklearn-color-fitted-level-3);\n",
       "}\n",
       "\n",
       ".sk-estimator-doc-link:hover span {\n",
       "  display: block;\n",
       "}\n",
       "\n",
       "/* \"?\"-specific style due to the `<a>` HTML tag */\n",
       "\n",
       "#sk-container-id-1 a.estimator_doc_link {\n",
       "  float: right;\n",
       "  font-size: 1rem;\n",
       "  line-height: 1em;\n",
       "  font-family: monospace;\n",
       "  background-color: var(--sklearn-color-background);\n",
       "  border-radius: 1rem;\n",
       "  height: 1rem;\n",
       "  width: 1rem;\n",
       "  text-decoration: none;\n",
       "  /* unfitted */\n",
       "  color: var(--sklearn-color-unfitted-level-1);\n",
       "  border: var(--sklearn-color-unfitted-level-1) 1pt solid;\n",
       "}\n",
       "\n",
       "#sk-container-id-1 a.estimator_doc_link.fitted {\n",
       "  /* fitted */\n",
       "  border: var(--sklearn-color-fitted-level-1) 1pt solid;\n",
       "  color: var(--sklearn-color-fitted-level-1);\n",
       "}\n",
       "\n",
       "/* On hover */\n",
       "#sk-container-id-1 a.estimator_doc_link:hover {\n",
       "  /* unfitted */\n",
       "  background-color: var(--sklearn-color-unfitted-level-3);\n",
       "  color: var(--sklearn-color-background);\n",
       "  text-decoration: none;\n",
       "}\n",
       "\n",
       "#sk-container-id-1 a.estimator_doc_link.fitted:hover {\n",
       "  /* fitted */\n",
       "  background-color: var(--sklearn-color-fitted-level-3);\n",
       "}\n",
       "</style><div id=\"sk-container-id-1\" class=\"sk-top-container\"><div class=\"sk-text-repr-fallback\"><pre>RandomForestRegressor(random_state=42)</pre><b>In a Jupyter environment, please rerun this cell to show the HTML representation or trust the notebook. <br />On GitHub, the HTML representation is unable to render, please try loading this page with nbviewer.org.</b></div><div class=\"sk-container\" hidden><div class=\"sk-item\"><div class=\"sk-estimator fitted sk-toggleable\"><input class=\"sk-toggleable__control sk-hidden--visually\" id=\"sk-estimator-id-1\" type=\"checkbox\" checked><label for=\"sk-estimator-id-1\" class=\"sk-toggleable__label fitted sk-toggleable__label-arrow\"><div><div>RandomForestRegressor</div></div><div><a class=\"sk-estimator-doc-link fitted\" rel=\"noreferrer\" target=\"_blank\" href=\"https://scikit-learn.org/1.6/modules/generated/sklearn.ensemble.RandomForestRegressor.html\">?<span>Documentation for RandomForestRegressor</span></a><span class=\"sk-estimator-doc-link fitted\">i<span>Fitted</span></span></div></label><div class=\"sk-toggleable__content fitted\"><pre>RandomForestRegressor(random_state=42)</pre></div> </div></div></div></div>"
      ],
      "text/plain": [
       "RandomForestRegressor(random_state=42)"
      ]
     },
     "execution_count": 62,
     "metadata": {},
     "output_type": "execute_result"
    }
   ],
   "source": [
    "# Prepare data to predict Customers\n",
    "features_customers = ['DayOfWeek', 'CompetitionDistance', 'Promo', 'Assortment', 'StoreType', 'StateHoliday', 'competition_duration']\n",
    "\n",
    "# Train and test sets for Customers prediction\n",
    "X_train_b_customers = train_merged[features_customers]\n",
    "y_train_b_customers = train_merged['Customers']\n",
    "X_test_b_customers = test_merged[features_customers]\n",
    "\n",
    "X_train_customers, X_val_customers, y_train_customers, y_val_customers = train_test_split(\n",
    "    X_train_b_customers, y_train_b_customers, test_size=0.2, random_state=42\n",
    ")\n",
    "\n",
    "\n",
    "#Prepare data to predict Sales (including predicted Customers)\n",
    "features_sales_b = features_customers + ['Customers']  # Include Customers for Sales prediction\n",
    "\n",
    "# Train and test sets for Sales prediction\n",
    "X_train_b_sales = train_merged[features_sales_b]\n",
    "y_train_b_sales = train_merged['Sales']\n",
    "\n",
    "\n",
    "\n",
    "#Train the Random Forest model to predict Customers\n",
    "rf_customers = RandomForestRegressor(n_estimators=100, random_state=42)\n",
    "rf_customers.fit(X_train_customers, y_train_customers)\n"
   ]
  },
  {
   "cell_type": "code",
   "execution_count": 63,
   "metadata": {},
   "outputs": [
    {
     "name": "stdout",
     "output_type": "stream",
     "text": [
      "Validation RMSE for Customers: 122.17591466662856\n",
      "Validation R² for Customers: 0.91\n",
      "Customers predicted for test set. Sample output:\n",
      "   Predicted_Customers\n",
      "0           568.227205\n",
      "1           833.291261\n",
      "2           981.795946\n",
      "3           851.259082\n",
      "4           587.897981\n"
     ]
    }
   ],
   "source": [
    "# Train the model to predict Customers\n",
    "y_val_pred_customers = rf_customers.predict(X_val_customers)\n",
    "rmse_customers = np.sqrt(mean_squared_error(y_val_customers, y_val_pred_customers))\n",
    "r2_customers = r2_score(y_val_customers, y_val_pred_customers)\n",
    "print(f\"Validation RMSE for Customers: {rmse_customers}\")\n",
    "print(f\"Validation R² for Customers: {r2_customers:.2f}\")\n",
    "\n",
    "\n",
    "# Predict Customers for the test set\n",
    "test_merged['Predicted_Customers'] = rf_customers.predict(X_test_b_customers)\n",
    "print(\"Customers predicted for test set. Sample output:\")\n",
    "print(test_merged[['Predicted_Customers']].head())\n"
   ]
  },
  {
   "cell_type": "code",
   "execution_count": 64,
   "metadata": {},
   "outputs": [
    {
     "data": {
      "text/plain": [
       "DayOfWeek               0\n",
       "CompetitionDistance     0\n",
       "Promo                   0\n",
       "Assortment              0\n",
       "StoreType               0\n",
       "StateHoliday            0\n",
       "competition_duration    0\n",
       "Predicted_Customers     0\n",
       "dtype: int64"
      ]
     },
     "execution_count": 64,
     "metadata": {},
     "output_type": "execute_result"
    }
   ],
   "source": [
    "features_sales_b = features_customers + ['Predicted_Customers']\n",
    "X_test_b_sales = test_merged[features_sales_b]\n",
    "\n",
    "X_test_b_sales.isnull().sum()"
   ]
  },
  {
   "cell_type": "code",
   "execution_count": 70,
   "metadata": {},
   "outputs": [
    {
     "data": {
      "text/html": [
       "<div>\n",
       "<style scoped>\n",
       "    .dataframe tbody tr th:only-of-type {\n",
       "        vertical-align: middle;\n",
       "    }\n",
       "\n",
       "    .dataframe tbody tr th {\n",
       "        vertical-align: top;\n",
       "    }\n",
       "\n",
       "    .dataframe thead th {\n",
       "        text-align: right;\n",
       "    }\n",
       "</style>\n",
       "<table border=\"1\" class=\"dataframe\">\n",
       "  <thead>\n",
       "    <tr style=\"text-align: right;\">\n",
       "      <th></th>\n",
       "      <th>DayOfWeek</th>\n",
       "      <th>CompetitionDistance</th>\n",
       "      <th>Promo</th>\n",
       "      <th>Assortment</th>\n",
       "      <th>StoreType</th>\n",
       "      <th>StateHoliday</th>\n",
       "      <th>competition_duration</th>\n",
       "      <th>Predicted_Customers</th>\n",
       "    </tr>\n",
       "  </thead>\n",
       "  <tbody>\n",
       "    <tr>\n",
       "      <th>0</th>\n",
       "      <td>4</td>\n",
       "      <td>1270.0</td>\n",
       "      <td>1</td>\n",
       "      <td>1</td>\n",
       "      <td>3</td>\n",
       "      <td>0</td>\n",
       "      <td>198</td>\n",
       "      <td>568.227205</td>\n",
       "    </tr>\n",
       "    <tr>\n",
       "      <th>1</th>\n",
       "      <td>4</td>\n",
       "      <td>14130.0</td>\n",
       "      <td>1</td>\n",
       "      <td>1</td>\n",
       "      <td>1</td>\n",
       "      <td>0</td>\n",
       "      <td>220</td>\n",
       "      <td>833.291261</td>\n",
       "    </tr>\n",
       "    <tr>\n",
       "      <th>2</th>\n",
       "      <td>4</td>\n",
       "      <td>24000.0</td>\n",
       "      <td>1</td>\n",
       "      <td>3</td>\n",
       "      <td>1</td>\n",
       "      <td>0</td>\n",
       "      <td>143</td>\n",
       "      <td>981.795946</td>\n",
       "    </tr>\n",
       "    <tr>\n",
       "      <th>3</th>\n",
       "      <td>4</td>\n",
       "      <td>7520.0</td>\n",
       "      <td>1</td>\n",
       "      <td>1</td>\n",
       "      <td>1</td>\n",
       "      <td>0</td>\n",
       "      <td>124</td>\n",
       "      <td>851.259082</td>\n",
       "    </tr>\n",
       "    <tr>\n",
       "      <th>4</th>\n",
       "      <td>4</td>\n",
       "      <td>2030.0</td>\n",
       "      <td>1</td>\n",
       "      <td>3</td>\n",
       "      <td>1</td>\n",
       "      <td>0</td>\n",
       "      <td>297</td>\n",
       "      <td>587.897981</td>\n",
       "    </tr>\n",
       "  </tbody>\n",
       "</table>\n",
       "</div>"
      ],
      "text/plain": [
       "   DayOfWeek  CompetitionDistance  Promo  Assortment  StoreType  StateHoliday  \\\n",
       "0          4               1270.0      1           1          3             0   \n",
       "1          4              14130.0      1           1          1             0   \n",
       "2          4              24000.0      1           3          1             0   \n",
       "3          4               7520.0      1           1          1             0   \n",
       "4          4               2030.0      1           3          1             0   \n",
       "\n",
       "   competition_duration  Predicted_Customers  \n",
       "0                   198           568.227205  \n",
       "1                   220           833.291261  \n",
       "2                   143           981.795946  \n",
       "3                   124           851.259082  \n",
       "4                   297           587.897981  "
      ]
     },
     "execution_count": 70,
     "metadata": {},
     "output_type": "execute_result"
    }
   ],
   "source": [
    "X_test_b_sales.head()"
   ]
  },
  {
   "cell_type": "code",
   "execution_count": 65,
   "metadata": {},
   "outputs": [
    {
     "data": {
      "text/plain": [
       "Store                            0\n",
       "DayOfWeek                        0\n",
       "Date                             0\n",
       "Sales                        35093\n",
       "Customers                    35093\n",
       "Open                             0\n",
       "Promo                            0\n",
       "StateHoliday                     0\n",
       "SchoolHoliday                    0\n",
       "Season                           0\n",
       "StoreType                        0\n",
       "Assortment                       0\n",
       "CompetitionDistance              0\n",
       "CompetitionOpenSinceMonth        0\n",
       "CompetitionOpenSinceYear         0\n",
       "Promo2                           0\n",
       "Promo2SinceWeek                  0\n",
       "Promo2SinceYear                  0\n",
       "PromoInterval                    0\n",
       "competition_duration             0\n",
       "promo_years                      0\n",
       "Predicted_Customers              0\n",
       "dtype: int64"
      ]
     },
     "execution_count": 65,
     "metadata": {},
     "output_type": "execute_result"
    }
   ],
   "source": [
    "test_merged.isnull().sum()"
   ]
  },
  {
   "cell_type": "code",
   "execution_count": 73,
   "metadata": {},
   "outputs": [
    {
     "name": "stdout",
     "output_type": "stream",
     "text": [
      "Validation RMSE: 576.7296069239076\n",
      "Validation R^2: 0.9655096199860399\n"
     ]
    }
   ],
   "source": [
    "# Add Predicted_Customers to test features for Sales prediction\n",
    "\n",
    "X_train, X_val, y_train, y_val = train_test_split(X_train_b_sales, y_train_b_sales, test_size=0.2, random_state=42)\n",
    "\n",
    "\n",
    "# Train the model to predict Sales\n",
    "rf_sales = RandomForestRegressor(n_estimators=100, random_state=42)\n",
    "rf_sales.fit(X_train, y_train)\n",
    "\n",
    "#  Evaluate the model on validation data\n",
    "y_val_pred = rf_sales.predict(X_val)\n",
    "rmse = np.sqrt(mean_squared_error(y_val, y_val_pred))\n",
    "r2 = r2_score(y_val, y_val_pred)\n",
    "print(f\"Validation RMSE: {rmse}\")\n",
    "print(f\"Validation R^2: {r2}\")\n"
   ]
  },
  {
   "cell_type": "code",
   "execution_count": 90,
   "metadata": {},
   "outputs": [
    {
     "data": {
      "text/plain": [
       "DayOfWeek                   0\n",
       "CompetitionDistance         0\n",
       "Promo                       0\n",
       "Assortment                  0\n",
       "StoreType                   0\n",
       "StateHoliday                0\n",
       "competition_duration        0\n",
       "Customers               35093\n",
       "Customers                   0\n",
       "dtype: int64"
      ]
     },
     "execution_count": 90,
     "metadata": {},
     "output_type": "execute_result"
    }
   ],
   "source": [
    "X_test_b_sales.isnull().sum()\n"
   ]
  },
  {
   "cell_type": "code",
   "execution_count": 94,
   "metadata": {},
   "outputs": [
    {
     "name": "stdout",
     "output_type": "stream",
     "text": [
      "Sales predicted for test set. Sample output:\n",
      "   Predicted_Sales\n",
      "0      5237.155333\n",
      "1      7866.010000\n",
      "2      9683.380000\n",
      "3      6985.940000\n",
      "4      6786.160000\n"
     ]
    }
   ],
   "source": [
    "test_merged['Predicted_Sales'] = rf_sales.predict(X_test_b_sales)\n",
    "print(\"Sales predicted for test set. Sample output:\")\n",
    "print(test_merged[['Predicted_Sales']].head())"
   ]
  },
  {
   "cell_type": "code",
   "execution_count": null,
   "metadata": {},
   "outputs": [
    {
     "name": "stdout",
     "output_type": "stream",
     "text": [
      "                Feature  Importance\n",
      "7   Predicted_Customers    0.748597\n",
      "1   CompetitionDistance    0.093504\n",
      "4             StoreType    0.059794\n",
      "6  competition_duration    0.035941\n",
      "2                 Promo    0.034601\n",
      "0             DayOfWeek    0.014023\n",
      "3            Assortment    0.013244\n",
      "5          StateHoliday    0.000296\n"
     ]
    }
   ],
   "source": [
    "feature_importances = pd.DataFrame({\n",
    "    'Feature': features_sales_b,\n",
    "    'Importance': rf_sales.feature_importances_\n",
    "}).sort_values(by='Importance', ascending=False)\n",
    "print(feature_importances)\n"
   ]
  },
  {
   "cell_type": "code",
   "execution_count": null,
   "metadata": {},
   "outputs": [
    {
     "name": "stdout",
     "output_type": "stream",
     "text": [
      "                Feature  Importance\n",
      "7   Predicted_Customers    0.748597\n",
      "1   CompetitionDistance    0.093504\n",
      "4             StoreType    0.059794\n",
      "6  competition_duration    0.035941\n",
      "2                 Promo    0.034601\n",
      "0             DayOfWeek    0.014023\n",
      "3            Assortment    0.013244\n",
      "5          StateHoliday    0.000296\n"
     ]
    },
    {
     "data": {
      "image/png": "[encoded data removed]",
      "text/plain": [
       "<Figure size 720x432 with 1 Axes>"
      ]
     },
     "metadata": {
      "needs_background": "light"
     },
     "output_type": "display_data"
    }
   ],
   "source": [
    "# Calculate feature importances\n",
    "feature_importances = pd.DataFrame({\n",
    "    'Feature': features_sales_b,\n",
    "    'Importance': rf_sales.feature_importances_\n",
    "}).sort_values(by='Importance', ascending=False)\n",
    "\n",
    "# Display the feature importances\n",
    "print(feature_importances)\n",
    "\n",
    "# Plot the feature importances\n",
    "plt.figure(figsize=(10, 6))\n",
    "plt.barh(feature_importances['Feature'], feature_importances['Importance'], color='skyblue')\n",
    "plt.xlabel('Importance', fontsize=12)\n",
    "plt.ylabel('Feature', fontsize=12)\n",
    "plt.title('Feature Importance for Sales Prediction', fontsize=14)\n",
    "plt.gca().invert_yaxis()  # Invert y-axis to show the most important feature at the top\n",
    "plt.show()\n"
   ]
  },
  {
   "cell_type": "markdown",
   "metadata": {},
   "source": [
    "# Prediciting Sales directly without Customer data in Test Dataset"
   ]
  },
  {
   "cell_type": "code",
   "execution_count": null,
   "metadata": {},
   "outputs": [
    {
     "name": "stderr",
     "output_type": "stream",
     "text": [
      "<ipython-input-59-807bfb88e855>:16: FutureWarning: A value is trying to be set on a copy of a DataFrame or Series through chained assignment using an inplace method.\n",
      "The behavior will change in pandas 3.0. This inplace method will never work because the intermediate object on which we are setting values always behaves as a copy.\n",
      "\n",
      "For example, when doing 'df[col].method(value, inplace=True)', try using 'df.method({col: value}, inplace=True)' or df[col] = df[col].method(value) instead, to perform the operation inplace on the original object.\n",
      "\n",
      "\n",
      "  X_train['CompetitionDistance'].fillna(X_train['CompetitionDistance'].median(), inplace=True)\n",
      "<ipython-input-59-807bfb88e855>:16: SettingWithCopyWarning: \n",
      "A value is trying to be set on a copy of a slice from a DataFrame\n",
      "\n",
      "See the caveats in the documentation: https://pandas.pydata.org/pandas-docs/stable/user_guide/indexing.html#returning-a-view-versus-a-copy\n",
      "  X_train['CompetitionDistance'].fillna(X_train['CompetitionDistance'].median(), inplace=True)\n",
      "<ipython-input-59-807bfb88e855>:17: FutureWarning: A value is trying to be set on a copy of a DataFrame or Series through chained assignment using an inplace method.\n",
      "The behavior will change in pandas 3.0. This inplace method will never work because the intermediate object on which we are setting values always behaves as a copy.\n",
      "\n",
      "For example, when doing 'df[col].method(value, inplace=True)', try using 'df.method({col: value}, inplace=True)' or df[col] = df[col].method(value) instead, to perform the operation inplace on the original object.\n",
      "\n",
      "\n",
      "  X_val['CompetitionDistance'].fillna(X_val['CompetitionDistance'].median(), inplace=True)\n",
      "<ipython-input-59-807bfb88e855>:17: SettingWithCopyWarning: \n",
      "A value is trying to be set on a copy of a slice from a DataFrame\n",
      "\n",
      "See the caveats in the documentation: https://pandas.pydata.org/pandas-docs/stable/user_guide/indexing.html#returning-a-view-versus-a-copy\n",
      "  X_val['CompetitionDistance'].fillna(X_val['CompetitionDistance'].median(), inplace=True)\n",
      "<ipython-input-59-807bfb88e855>:18: FutureWarning: A value is trying to be set on a copy of a DataFrame or Series through chained assignment using an inplace method.\n",
      "The behavior will change in pandas 3.0. This inplace method will never work because the intermediate object on which we are setting values always behaves as a copy.\n",
      "\n",
      "For example, when doing 'df[col].method(value, inplace=True)', try using 'df.method({col: value}, inplace=True)' or df[col] = df[col].method(value) instead, to perform the operation inplace on the original object.\n",
      "\n",
      "\n",
      "  test_merged['CompetitionDistance'].fillna(test_merged['CompetitionDistance'].median(), inplace=True)\n"
     ]
    },
    {
     "name": "stdout",
     "output_type": "stream",
     "text": [
      "Validation RMSE: 1446.2328310670705\n",
      "Validation Accuracy: 78.31%\n",
      "   Promo2  DayOfWeek  CompetitionDistance  PredictedSales\n",
      "0       0          4               1270.0     6811.648652\n",
      "1       1          4              14130.0     7852.353427\n",
      "2       0          4              24000.0     8799.469287\n",
      "3       0          4               7520.0     7039.465903\n",
      "4       0          4               2030.0     6580.778962\n"
     ]
    }
   ],
   "source": [
    "# Define features (X) and target (y) from train_merged\n",
    "predictors = ['DayOfWeek', 'CompetitionDistance', 'promo_years', 'Season', 'Promo', 'Assortment', 'StoreType', 'StateHoliday']\n",
    "X = train_merged[predictors]\n",
    "y = train_merged['Sales']  # Target variable\n",
    "\n",
    "# Split training data into training and validation sets\n",
    "X_train, X_val, y_train, y_val = train_test_split(X, y, test_size=0.2, random_state=42)\n",
    "\n",
    "# Handle missing values in CompetitionDistance in both train and test datasets (if any)\n",
    "X_train['CompetitionDistance'].fillna(X_train['CompetitionDistance'].median(), inplace=True)\n",
    "X_val['CompetitionDistance'].fillna(X_val['CompetitionDistance'].median(), inplace=True)\n",
    "test_merged['CompetitionDistance'].fillna(test_merged['CompetitionDistance'].median(), inplace=True)\n",
    "\n",
    "# Initialize and train the Random Forest model\n",
    "rf_model = RandomForestRegressor(n_estimators=100, random_state=42)\n",
    "rf_model.fit(X_train, y_train)\n",
    "\n",
    "# Predict on validation set\n",
    "y_val_pred = rf_model.predict(X_val)\n",
    "\n",
    "# Calculate RMSE (Root Mean Squared Error) on validation set\n",
    "rmse = np.sqrt(mean_squared_error(y_val, y_val_pred))\n",
    "print(f\"Validation RMSE: {rmse}\")\n",
    "\n",
    "# Calculate R² score (accuracy percentage)\n",
    "r2 = r2_score(y_val, y_val_pred)\n",
    "accuracy = r2 * 100\n",
    "print(f\"Validation Accuracy: {accuracy:.2f}%\")\n",
    "\n",
    "# Predict on test dataset\n",
    "X_test = test_merged[predictors]\n",
    "test_predictions = rf_model.predict(X_test)\n",
    "\n",
    "# Save predictions to a DataFrame for review\n",
    "test_merged['PredictedSales'] = test_predictions\n",
    "print(test_merged[['Promo2', 'DayOfWeek', 'CompetitionDistance', 'PredictedSales']].head())\n",
    "\n",
    "\n"
   ]
  },
  {
   "cell_type": "code",
   "execution_count": null,
   "metadata": {},
   "outputs": [
    {
     "name": "stdout",
     "output_type": "stream",
     "text": [
      "               Feature  Importance\n",
      "1  CompetitionDistance    0.520118\n",
      "4                Promo    0.165959\n",
      "2          promo_years    0.094191\n",
      "0            DayOfWeek    0.082187\n",
      "6            StoreType    0.074620\n",
      "5           Assortment    0.041276\n",
      "3               Season    0.019413\n",
      "7         StateHoliday    0.002236\n"
     ]
    }
   ],
   "source": [
    "feature_importances = pd.DataFrame({\n",
    "    'Feature': predictors,\n",
    "    'Importance': rf_model.feature_importances_\n",
    "}).sort_values(by='Importance', ascending=False)\n",
    "print(feature_importances)\n"
   ]
  },
  {
   "cell_type": "code",
   "execution_count": null,
   "metadata": {},
   "outputs": [
    {
     "name": "stdout",
     "output_type": "stream",
     "text": [
      "               Feature  Importance\n",
      "1  CompetitionDistance    0.520118\n",
      "4                Promo    0.165959\n",
      "2          promo_years    0.094191\n",
      "0            DayOfWeek    0.082187\n",
      "6            StoreType    0.074620\n",
      "5           Assortment    0.041276\n",
      "3               Season    0.019413\n",
      "7         StateHoliday    0.002236\n"
     ]
    },
    {
     "data": {
      "image/png": "[encoded data removed]",
      "text/plain": [
       "<Figure size 864x576 with 1 Axes>"
      ]
     },
     "metadata": {
      "needs_background": "light"
     },
     "output_type": "display_data"
    }
   ],
   "source": [
    "import pandas as pd\n",
    "import matplotlib.pyplot as plt\n",
    "\n",
    "# Calculate feature importances\n",
    "feature_importances = pd.DataFrame({\n",
    "    'Feature': predictors,\n",
    "    'Importance': rf_model.feature_importances_\n",
    "}).sort_values(by='Importance', ascending=False)\n",
    "\n",
    "# Display the feature importances\n",
    "print(feature_importances)\n",
    "\n",
    "# Plot the feature importances\n",
    "plt.figure(figsize=(12, 8))\n",
    "plt.barh(feature_importances['Feature'], feature_importances['Importance'], color='skyblue', edgecolor='black')\n",
    "plt.xlabel('Importance', fontsize=14)\n",
    "plt.ylabel('Feature', fontsize=14)\n",
    "plt.title('Feature Importance for Random Forest Model', fontsize=16)\n",
    "plt.xticks(fontsize=12)\n",
    "plt.yticks(fontsize=12)\n",
    "plt.gca().invert_yaxis()  # Most important feature on top\n",
    "plt.tight_layout()\n",
    "plt.show()\n"
   ]
  }
 ],
 "metadata": {
  "kernelspec": {
   "display_name": "Python 3",
   "language": "python",
   "name": "python3"
  },
  "language_info": {
   "codemirror_mode": {
    "name": "ipython",
    "version": 3
   },
   "file_extension": ".py",
   "mimetype": "text/x-python",
   "name": "python",
   "nbconvert_exporter": "python",
   "pygments_lexer": "ipython3",
   "version": "3.9.1"
  }
 },
 "nbformat": 4,
 "nbformat_minor": 2
}
